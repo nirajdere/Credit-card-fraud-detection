{
 "cells": [
  {
   "cell_type": "markdown",
   "metadata": {},
   "source": [
    "## Data pre-processing"
   ]
  },
  {
   "cell_type": "code",
   "execution_count": 2,
   "metadata": {},
   "outputs": [],
   "source": [
    "import pandas as pd\n",
    "import numpy as np\n",
    "import matplotlib.pyplot as plt\n",
    "import seaborn as sns\n",
    "from datetime import timedelta"
   ]
  },
  {
   "cell_type": "code",
   "execution_count": 135,
   "metadata": {},
   "outputs": [],
   "source": [
    "df = pd.read_json('transactions.json',lines=True,orient='records')"
   ]
  },
  {
   "cell_type": "code",
   "execution_count": 136,
   "metadata": {},
   "outputs": [],
   "source": [
    "# Replacing null values with NaN\n",
    "df = df.replace(r'^\\s*$', np.nan, regex=True)"
   ]
  },
  {
   "cell_type": "code",
   "execution_count": 137,
   "metadata": {},
   "outputs": [],
   "source": [
    "# Dropping with features with zero entries\n",
    "df.drop(['echoBuffer','merchantCity','merchantState','merchantZip','posOnPremises','recurringAuthInd'],\n",
    "                  axis=1,inplace=True)"
   ]
  },
  {
   "cell_type": "code",
   "execution_count": 138,
   "metadata": {},
   "outputs": [],
   "source": [
    "df['matchingCVV'] = df['cardCVV'] == df['enteredCVV']"
   ]
  },
  {
   "cell_type": "code",
   "execution_count": 139,
   "metadata": {},
   "outputs": [],
   "source": [
    "# Dropping features which have no importance in modelling\n",
    "df.drop(['customerId','accountNumber','merchantName','currentExpDate','transactionDateTime','accountOpenDate','dateOfLastAddressChange','cardCVV','enteredCVV','cardLast4Digits','transactionDateTime'],\n",
    "                  axis=1,inplace=True)"
   ]
  },
  {
   "cell_type": "code",
   "execution_count": 140,
   "metadata": {},
   "outputs": [
    {
     "data": {
      "text/html": [
       "<div>\n",
       "<style scoped>\n",
       "    .dataframe tbody tr th:only-of-type {\n",
       "        vertical-align: middle;\n",
       "    }\n",
       "\n",
       "    .dataframe tbody tr th {\n",
       "        vertical-align: top;\n",
       "    }\n",
       "\n",
       "    .dataframe thead th {\n",
       "        text-align: right;\n",
       "    }\n",
       "</style>\n",
       "<table border=\"1\" class=\"dataframe\">\n",
       "  <thead>\n",
       "    <tr style=\"text-align: right;\">\n",
       "      <th></th>\n",
       "      <th>creditLimit</th>\n",
       "      <th>availableMoney</th>\n",
       "      <th>transactionAmount</th>\n",
       "      <th>acqCountry</th>\n",
       "      <th>merchantCountryCode</th>\n",
       "      <th>posEntryMode</th>\n",
       "      <th>posConditionCode</th>\n",
       "      <th>merchantCategoryCode</th>\n",
       "      <th>transactionType</th>\n",
       "      <th>currentBalance</th>\n",
       "      <th>cardPresent</th>\n",
       "      <th>expirationDateKeyInMatch</th>\n",
       "      <th>isFraud</th>\n",
       "      <th>matchingCVV</th>\n",
       "    </tr>\n",
       "  </thead>\n",
       "  <tbody>\n",
       "    <tr>\n",
       "      <th>0</th>\n",
       "      <td>5000</td>\n",
       "      <td>5000.0</td>\n",
       "      <td>98.55</td>\n",
       "      <td>US</td>\n",
       "      <td>US</td>\n",
       "      <td>02</td>\n",
       "      <td>01</td>\n",
       "      <td>rideshare</td>\n",
       "      <td>PURCHASE</td>\n",
       "      <td>0.0</td>\n",
       "      <td>False</td>\n",
       "      <td>False</td>\n",
       "      <td>False</td>\n",
       "      <td>True</td>\n",
       "    </tr>\n",
       "    <tr>\n",
       "      <th>1</th>\n",
       "      <td>5000</td>\n",
       "      <td>5000.0</td>\n",
       "      <td>74.51</td>\n",
       "      <td>US</td>\n",
       "      <td>US</td>\n",
       "      <td>09</td>\n",
       "      <td>01</td>\n",
       "      <td>entertainment</td>\n",
       "      <td>PURCHASE</td>\n",
       "      <td>0.0</td>\n",
       "      <td>True</td>\n",
       "      <td>False</td>\n",
       "      <td>False</td>\n",
       "      <td>True</td>\n",
       "    </tr>\n",
       "    <tr>\n",
       "      <th>2</th>\n",
       "      <td>5000</td>\n",
       "      <td>5000.0</td>\n",
       "      <td>7.47</td>\n",
       "      <td>US</td>\n",
       "      <td>US</td>\n",
       "      <td>09</td>\n",
       "      <td>01</td>\n",
       "      <td>mobileapps</td>\n",
       "      <td>PURCHASE</td>\n",
       "      <td>0.0</td>\n",
       "      <td>False</td>\n",
       "      <td>False</td>\n",
       "      <td>False</td>\n",
       "      <td>True</td>\n",
       "    </tr>\n",
       "    <tr>\n",
       "      <th>3</th>\n",
       "      <td>5000</td>\n",
       "      <td>5000.0</td>\n",
       "      <td>7.47</td>\n",
       "      <td>US</td>\n",
       "      <td>US</td>\n",
       "      <td>09</td>\n",
       "      <td>01</td>\n",
       "      <td>mobileapps</td>\n",
       "      <td>PURCHASE</td>\n",
       "      <td>0.0</td>\n",
       "      <td>False</td>\n",
       "      <td>False</td>\n",
       "      <td>False</td>\n",
       "      <td>True</td>\n",
       "    </tr>\n",
       "    <tr>\n",
       "      <th>4</th>\n",
       "      <td>5000</td>\n",
       "      <td>5000.0</td>\n",
       "      <td>71.18</td>\n",
       "      <td>US</td>\n",
       "      <td>US</td>\n",
       "      <td>02</td>\n",
       "      <td>01</td>\n",
       "      <td>fastfood</td>\n",
       "      <td>PURCHASE</td>\n",
       "      <td>0.0</td>\n",
       "      <td>True</td>\n",
       "      <td>False</td>\n",
       "      <td>False</td>\n",
       "      <td>True</td>\n",
       "    </tr>\n",
       "  </tbody>\n",
       "</table>\n",
       "</div>"
      ],
      "text/plain": [
       "   creditLimit  availableMoney  transactionAmount acqCountry  \\\n",
       "0         5000          5000.0              98.55         US   \n",
       "1         5000          5000.0              74.51         US   \n",
       "2         5000          5000.0               7.47         US   \n",
       "3         5000          5000.0               7.47         US   \n",
       "4         5000          5000.0              71.18         US   \n",
       "\n",
       "  merchantCountryCode posEntryMode posConditionCode merchantCategoryCode  \\\n",
       "0                  US           02               01            rideshare   \n",
       "1                  US           09               01        entertainment   \n",
       "2                  US           09               01           mobileapps   \n",
       "3                  US           09               01           mobileapps   \n",
       "4                  US           02               01             fastfood   \n",
       "\n",
       "  transactionType  currentBalance  cardPresent  expirationDateKeyInMatch  \\\n",
       "0        PURCHASE             0.0        False                     False   \n",
       "1        PURCHASE             0.0         True                     False   \n",
       "2        PURCHASE             0.0        False                     False   \n",
       "3        PURCHASE             0.0        False                     False   \n",
       "4        PURCHASE             0.0         True                     False   \n",
       "\n",
       "   isFraud  matchingCVV  \n",
       "0    False         True  \n",
       "1    False         True  \n",
       "2    False         True  \n",
       "3    False         True  \n",
       "4    False         True  "
      ]
     },
     "execution_count": 140,
     "metadata": {},
     "output_type": "execute_result"
    }
   ],
   "source": [
    "df.head()"
   ]
  },
  {
   "cell_type": "code",
   "execution_count": 141,
   "metadata": {},
   "outputs": [],
   "source": [
    "from sklearn.impute import SimpleImputer\n",
    "from sklearn.model_selection import train_test_split\n",
    "from sklearn.preprocessing import OneHotEncoder\n",
    "from sklearn.compose import ColumnTransformer\n",
    "from sklearn.preprocessing import LabelEncoder\n",
    "from sklearn.preprocessing import StandardScaler\n",
    "from imblearn.under_sampling import RandomUnderSampler"
   ]
  },
  {
   "cell_type": "markdown",
   "metadata": {},
   "source": [
    "### Under-sampling"
   ]
  },
  {
   "cell_type": "markdown",
   "metadata": {},
   "source": [
    "#### Applying under-sampling as the input to output data is imbalanced. Keeping the ratio of fradulent to non-fradulent cases as 0.2"
   ]
  },
  {
   "cell_type": "code",
   "execution_count": 142,
   "metadata": {},
   "outputs": [
    {
     "name": "stdout",
     "output_type": "stream",
     "text": [
      "Before Random Under Sampling: (786363, 13)\n",
      "After Random Under Sampling: (74502, 13)\n"
     ]
    }
   ],
   "source": [
    "ros = RandomUnderSampler(sampling_strategy=0.2,random_state=42)\n",
    "y_raw = df['isFraud']\n",
    "df.drop('isFraud', inplace=True, axis=1)\n",
    "new_x, new_y = ros.fit_resample(df, y_raw)\n",
    "print(f'Before Random Under Sampling: {df.shape}')\n",
    "print(f'After Random Under Sampling: {new_x.shape}')"
   ]
  },
  {
   "cell_type": "code",
   "execution_count": 143,
   "metadata": {},
   "outputs": [
    {
     "data": {
      "text/html": [
       "<div>\n",
       "<style scoped>\n",
       "    .dataframe tbody tr th:only-of-type {\n",
       "        vertical-align: middle;\n",
       "    }\n",
       "\n",
       "    .dataframe tbody tr th {\n",
       "        vertical-align: top;\n",
       "    }\n",
       "\n",
       "    .dataframe thead th {\n",
       "        text-align: right;\n",
       "    }\n",
       "</style>\n",
       "<table border=\"1\" class=\"dataframe\">\n",
       "  <thead>\n",
       "    <tr style=\"text-align: right;\">\n",
       "      <th></th>\n",
       "      <th>creditLimit</th>\n",
       "      <th>availableMoney</th>\n",
       "      <th>transactionAmount</th>\n",
       "      <th>acqCountry</th>\n",
       "      <th>merchantCountryCode</th>\n",
       "      <th>posEntryMode</th>\n",
       "      <th>posConditionCode</th>\n",
       "      <th>merchantCategoryCode</th>\n",
       "      <th>transactionType</th>\n",
       "      <th>currentBalance</th>\n",
       "      <th>cardPresent</th>\n",
       "      <th>expirationDateKeyInMatch</th>\n",
       "      <th>matchingCVV</th>\n",
       "    </tr>\n",
       "  </thead>\n",
       "  <tbody>\n",
       "    <tr>\n",
       "      <th>0</th>\n",
       "      <td>2500</td>\n",
       "      <td>2500.00</td>\n",
       "      <td>222.61</td>\n",
       "      <td>US</td>\n",
       "      <td>US</td>\n",
       "      <td>02</td>\n",
       "      <td>01</td>\n",
       "      <td>food</td>\n",
       "      <td>PURCHASE</td>\n",
       "      <td>0.00</td>\n",
       "      <td>True</td>\n",
       "      <td>False</td>\n",
       "      <td>True</td>\n",
       "    </tr>\n",
       "    <tr>\n",
       "      <th>1</th>\n",
       "      <td>50000</td>\n",
       "      <td>49904.26</td>\n",
       "      <td>63.18</td>\n",
       "      <td>US</td>\n",
       "      <td>US</td>\n",
       "      <td>02</td>\n",
       "      <td>01</td>\n",
       "      <td>subscriptions</td>\n",
       "      <td>PURCHASE</td>\n",
       "      <td>95.74</td>\n",
       "      <td>False</td>\n",
       "      <td>False</td>\n",
       "      <td>True</td>\n",
       "    </tr>\n",
       "    <tr>\n",
       "      <th>2</th>\n",
       "      <td>7500</td>\n",
       "      <td>3147.92</td>\n",
       "      <td>57.83</td>\n",
       "      <td>US</td>\n",
       "      <td>US</td>\n",
       "      <td>09</td>\n",
       "      <td>01</td>\n",
       "      <td>health</td>\n",
       "      <td>PURCHASE</td>\n",
       "      <td>4352.08</td>\n",
       "      <td>False</td>\n",
       "      <td>False</td>\n",
       "      <td>True</td>\n",
       "    </tr>\n",
       "    <tr>\n",
       "      <th>3</th>\n",
       "      <td>10000</td>\n",
       "      <td>3403.54</td>\n",
       "      <td>34.41</td>\n",
       "      <td>US</td>\n",
       "      <td>US</td>\n",
       "      <td>05</td>\n",
       "      <td>01</td>\n",
       "      <td>rideshare</td>\n",
       "      <td>PURCHASE</td>\n",
       "      <td>6596.46</td>\n",
       "      <td>False</td>\n",
       "      <td>False</td>\n",
       "      <td>True</td>\n",
       "    </tr>\n",
       "    <tr>\n",
       "      <th>4</th>\n",
       "      <td>7500</td>\n",
       "      <td>1760.22</td>\n",
       "      <td>396.22</td>\n",
       "      <td>US</td>\n",
       "      <td>US</td>\n",
       "      <td>05</td>\n",
       "      <td>01</td>\n",
       "      <td>fastfood</td>\n",
       "      <td>PURCHASE</td>\n",
       "      <td>5739.78</td>\n",
       "      <td>True</td>\n",
       "      <td>False</td>\n",
       "      <td>True</td>\n",
       "    </tr>\n",
       "  </tbody>\n",
       "</table>\n",
       "</div>"
      ],
      "text/plain": [
       "   creditLimit  availableMoney  transactionAmount acqCountry  \\\n",
       "0         2500         2500.00             222.61         US   \n",
       "1        50000        49904.26              63.18         US   \n",
       "2         7500         3147.92              57.83         US   \n",
       "3        10000         3403.54              34.41         US   \n",
       "4         7500         1760.22             396.22         US   \n",
       "\n",
       "  merchantCountryCode posEntryMode posConditionCode merchantCategoryCode  \\\n",
       "0                  US           02               01                 food   \n",
       "1                  US           02               01        subscriptions   \n",
       "2                  US           09               01               health   \n",
       "3                  US           05               01            rideshare   \n",
       "4                  US           05               01             fastfood   \n",
       "\n",
       "  transactionType  currentBalance  cardPresent  expirationDateKeyInMatch  \\\n",
       "0        PURCHASE            0.00         True                     False   \n",
       "1        PURCHASE           95.74        False                     False   \n",
       "2        PURCHASE         4352.08        False                     False   \n",
       "3        PURCHASE         6596.46        False                     False   \n",
       "4        PURCHASE         5739.78         True                     False   \n",
       "\n",
       "   matchingCVV  \n",
       "0         True  \n",
       "1         True  \n",
       "2         True  \n",
       "3         True  \n",
       "4         True  "
      ]
     },
     "execution_count": 143,
     "metadata": {},
     "output_type": "execute_result"
    }
   ],
   "source": [
    "new_x.head()"
   ]
  },
  {
   "cell_type": "code",
   "execution_count": 144,
   "metadata": {},
   "outputs": [
    {
     "data": {
      "text/plain": [
       "0    False\n",
       "1    False\n",
       "2    False\n",
       "3    False\n",
       "4    False\n",
       "Name: isFraud, dtype: bool"
      ]
     },
     "execution_count": 144,
     "metadata": {},
     "output_type": "execute_result"
    }
   ],
   "source": [
    "new_y.head()"
   ]
  },
  {
   "cell_type": "code",
   "execution_count": 145,
   "metadata": {},
   "outputs": [
    {
     "data": {
      "text/plain": [
       "False    62085\n",
       "True     12417\n",
       "Name: isFraud, dtype: int64"
      ]
     },
     "execution_count": 145,
     "metadata": {},
     "output_type": "execute_result"
    }
   ],
   "source": [
    "new_y.value_counts()"
   ]
  },
  {
   "cell_type": "markdown",
   "metadata": {},
   "source": [
    "### Encoding categorical data"
   ]
  },
  {
   "cell_type": "code",
   "execution_count": 146,
   "metadata": {},
   "outputs": [],
   "source": [
    "categorical_cols =  ['creditLimit',\n",
    " 'acqCountry',\n",
    " 'merchantCountryCode',\n",
    " 'posEntryMode',\n",
    " 'posConditionCode',\n",
    " 'merchantCategoryCode',\n",
    " 'transactionType',\n",
    " 'cardPresent',\n",
    " 'expirationDateKeyInMatch',\n",
    " 'matchingCVV']\n",
    "\n",
    "Xe = pd.get_dummies(new_x, columns = categorical_cols)"
   ]
  },
  {
   "cell_type": "code",
   "execution_count": 147,
   "metadata": {},
   "outputs": [
    {
     "data": {
      "text/html": [
       "<div>\n",
       "<style scoped>\n",
       "    .dataframe tbody tr th:only-of-type {\n",
       "        vertical-align: middle;\n",
       "    }\n",
       "\n",
       "    .dataframe tbody tr th {\n",
       "        vertical-align: top;\n",
       "    }\n",
       "\n",
       "    .dataframe thead th {\n",
       "        text-align: right;\n",
       "    }\n",
       "</style>\n",
       "<table border=\"1\" class=\"dataframe\">\n",
       "  <thead>\n",
       "    <tr style=\"text-align: right;\">\n",
       "      <th></th>\n",
       "      <th>availableMoney</th>\n",
       "      <th>transactionAmount</th>\n",
       "      <th>currentBalance</th>\n",
       "      <th>creditLimit_250</th>\n",
       "      <th>creditLimit_500</th>\n",
       "      <th>creditLimit_1000</th>\n",
       "      <th>creditLimit_2500</th>\n",
       "      <th>creditLimit_5000</th>\n",
       "      <th>creditLimit_7500</th>\n",
       "      <th>creditLimit_10000</th>\n",
       "      <th>...</th>\n",
       "      <th>merchantCategoryCode_subscriptions</th>\n",
       "      <th>transactionType_ADDRESS_VERIFICATION</th>\n",
       "      <th>transactionType_PURCHASE</th>\n",
       "      <th>transactionType_REVERSAL</th>\n",
       "      <th>cardPresent_False</th>\n",
       "      <th>cardPresent_True</th>\n",
       "      <th>expirationDateKeyInMatch_False</th>\n",
       "      <th>expirationDateKeyInMatch_True</th>\n",
       "      <th>matchingCVV_False</th>\n",
       "      <th>matchingCVV_True</th>\n",
       "    </tr>\n",
       "  </thead>\n",
       "  <tbody>\n",
       "    <tr>\n",
       "      <th>0</th>\n",
       "      <td>2500.00</td>\n",
       "      <td>222.61</td>\n",
       "      <td>0.00</td>\n",
       "      <td>0</td>\n",
       "      <td>0</td>\n",
       "      <td>0</td>\n",
       "      <td>1</td>\n",
       "      <td>0</td>\n",
       "      <td>0</td>\n",
       "      <td>0</td>\n",
       "      <td>...</td>\n",
       "      <td>0</td>\n",
       "      <td>0</td>\n",
       "      <td>1</td>\n",
       "      <td>0</td>\n",
       "      <td>0</td>\n",
       "      <td>1</td>\n",
       "      <td>1</td>\n",
       "      <td>0</td>\n",
       "      <td>0</td>\n",
       "      <td>1</td>\n",
       "    </tr>\n",
       "    <tr>\n",
       "      <th>1</th>\n",
       "      <td>49904.26</td>\n",
       "      <td>63.18</td>\n",
       "      <td>95.74</td>\n",
       "      <td>0</td>\n",
       "      <td>0</td>\n",
       "      <td>0</td>\n",
       "      <td>0</td>\n",
       "      <td>0</td>\n",
       "      <td>0</td>\n",
       "      <td>0</td>\n",
       "      <td>...</td>\n",
       "      <td>1</td>\n",
       "      <td>0</td>\n",
       "      <td>1</td>\n",
       "      <td>0</td>\n",
       "      <td>1</td>\n",
       "      <td>0</td>\n",
       "      <td>1</td>\n",
       "      <td>0</td>\n",
       "      <td>0</td>\n",
       "      <td>1</td>\n",
       "    </tr>\n",
       "    <tr>\n",
       "      <th>2</th>\n",
       "      <td>3147.92</td>\n",
       "      <td>57.83</td>\n",
       "      <td>4352.08</td>\n",
       "      <td>0</td>\n",
       "      <td>0</td>\n",
       "      <td>0</td>\n",
       "      <td>0</td>\n",
       "      <td>0</td>\n",
       "      <td>1</td>\n",
       "      <td>0</td>\n",
       "      <td>...</td>\n",
       "      <td>0</td>\n",
       "      <td>0</td>\n",
       "      <td>1</td>\n",
       "      <td>0</td>\n",
       "      <td>1</td>\n",
       "      <td>0</td>\n",
       "      <td>1</td>\n",
       "      <td>0</td>\n",
       "      <td>0</td>\n",
       "      <td>1</td>\n",
       "    </tr>\n",
       "    <tr>\n",
       "      <th>3</th>\n",
       "      <td>3403.54</td>\n",
       "      <td>34.41</td>\n",
       "      <td>6596.46</td>\n",
       "      <td>0</td>\n",
       "      <td>0</td>\n",
       "      <td>0</td>\n",
       "      <td>0</td>\n",
       "      <td>0</td>\n",
       "      <td>0</td>\n",
       "      <td>1</td>\n",
       "      <td>...</td>\n",
       "      <td>0</td>\n",
       "      <td>0</td>\n",
       "      <td>1</td>\n",
       "      <td>0</td>\n",
       "      <td>1</td>\n",
       "      <td>0</td>\n",
       "      <td>1</td>\n",
       "      <td>0</td>\n",
       "      <td>0</td>\n",
       "      <td>1</td>\n",
       "    </tr>\n",
       "    <tr>\n",
       "      <th>4</th>\n",
       "      <td>1760.22</td>\n",
       "      <td>396.22</td>\n",
       "      <td>5739.78</td>\n",
       "      <td>0</td>\n",
       "      <td>0</td>\n",
       "      <td>0</td>\n",
       "      <td>0</td>\n",
       "      <td>0</td>\n",
       "      <td>1</td>\n",
       "      <td>0</td>\n",
       "      <td>...</td>\n",
       "      <td>0</td>\n",
       "      <td>0</td>\n",
       "      <td>1</td>\n",
       "      <td>0</td>\n",
       "      <td>0</td>\n",
       "      <td>1</td>\n",
       "      <td>1</td>\n",
       "      <td>0</td>\n",
       "      <td>0</td>\n",
       "      <td>1</td>\n",
       "    </tr>\n",
       "  </tbody>\n",
       "</table>\n",
       "<p>5 rows × 57 columns</p>\n",
       "</div>"
      ],
      "text/plain": [
       "   availableMoney  transactionAmount  currentBalance  creditLimit_250  \\\n",
       "0         2500.00             222.61            0.00                0   \n",
       "1        49904.26              63.18           95.74                0   \n",
       "2         3147.92              57.83         4352.08                0   \n",
       "3         3403.54              34.41         6596.46                0   \n",
       "4         1760.22             396.22         5739.78                0   \n",
       "\n",
       "   creditLimit_500  creditLimit_1000  creditLimit_2500  creditLimit_5000  \\\n",
       "0                0                 0                 1                 0   \n",
       "1                0                 0                 0                 0   \n",
       "2                0                 0                 0                 0   \n",
       "3                0                 0                 0                 0   \n",
       "4                0                 0                 0                 0   \n",
       "\n",
       "   creditLimit_7500  creditLimit_10000  ...  \\\n",
       "0                 0                  0  ...   \n",
       "1                 0                  0  ...   \n",
       "2                 1                  0  ...   \n",
       "3                 0                  1  ...   \n",
       "4                 1                  0  ...   \n",
       "\n",
       "   merchantCategoryCode_subscriptions  transactionType_ADDRESS_VERIFICATION  \\\n",
       "0                                   0                                     0   \n",
       "1                                   1                                     0   \n",
       "2                                   0                                     0   \n",
       "3                                   0                                     0   \n",
       "4                                   0                                     0   \n",
       "\n",
       "   transactionType_PURCHASE  transactionType_REVERSAL  cardPresent_False  \\\n",
       "0                         1                         0                  0   \n",
       "1                         1                         0                  1   \n",
       "2                         1                         0                  1   \n",
       "3                         1                         0                  1   \n",
       "4                         1                         0                  0   \n",
       "\n",
       "   cardPresent_True  expirationDateKeyInMatch_False  \\\n",
       "0                 1                               1   \n",
       "1                 0                               1   \n",
       "2                 0                               1   \n",
       "3                 0                               1   \n",
       "4                 1                               1   \n",
       "\n",
       "   expirationDateKeyInMatch_True  matchingCVV_False  matchingCVV_True  \n",
       "0                              0                  0                 1  \n",
       "1                              0                  0                 1  \n",
       "2                              0                  0                 1  \n",
       "3                              0                  0                 1  \n",
       "4                              0                  0                 1  \n",
       "\n",
       "[5 rows x 57 columns]"
      ]
     },
     "execution_count": 147,
     "metadata": {},
     "output_type": "execute_result"
    }
   ],
   "source": [
    "Xe.head()"
   ]
  },
  {
   "cell_type": "code",
   "execution_count": 148,
   "metadata": {},
   "outputs": [],
   "source": [
    "categorical_cols =  ['creditLimit',\n",
    " 'acqCountry',\n",
    " 'merchantCountryCode',\n",
    " 'posEntryMode',\n",
    " 'posConditionCode',\n",
    " 'merchantCategoryCode',\n",
    " 'transactionType',\n",
    " 'cardPresent',\n",
    " 'expirationDateKeyInMatch',\n",
    " 'matchingCVV']\n",
    "\n",
    "Xe = pd.get_dummies(new_x, columns = categorical_cols)"
   ]
  },
  {
   "cell_type": "code",
   "execution_count": 149,
   "metadata": {},
   "outputs": [
    {
     "data": {
      "text/html": [
       "<div>\n",
       "<style scoped>\n",
       "    .dataframe tbody tr th:only-of-type {\n",
       "        vertical-align: middle;\n",
       "    }\n",
       "\n",
       "    .dataframe tbody tr th {\n",
       "        vertical-align: top;\n",
       "    }\n",
       "\n",
       "    .dataframe thead th {\n",
       "        text-align: right;\n",
       "    }\n",
       "</style>\n",
       "<table border=\"1\" class=\"dataframe\">\n",
       "  <thead>\n",
       "    <tr style=\"text-align: right;\">\n",
       "      <th></th>\n",
       "      <th>availableMoney</th>\n",
       "      <th>transactionAmount</th>\n",
       "      <th>currentBalance</th>\n",
       "      <th>creditLimit_250</th>\n",
       "      <th>creditLimit_500</th>\n",
       "      <th>creditLimit_1000</th>\n",
       "      <th>creditLimit_2500</th>\n",
       "      <th>creditLimit_5000</th>\n",
       "      <th>creditLimit_7500</th>\n",
       "      <th>creditLimit_10000</th>\n",
       "      <th>...</th>\n",
       "      <th>merchantCategoryCode_subscriptions</th>\n",
       "      <th>transactionType_ADDRESS_VERIFICATION</th>\n",
       "      <th>transactionType_PURCHASE</th>\n",
       "      <th>transactionType_REVERSAL</th>\n",
       "      <th>cardPresent_False</th>\n",
       "      <th>cardPresent_True</th>\n",
       "      <th>expirationDateKeyInMatch_False</th>\n",
       "      <th>expirationDateKeyInMatch_True</th>\n",
       "      <th>matchingCVV_False</th>\n",
       "      <th>matchingCVV_True</th>\n",
       "    </tr>\n",
       "  </thead>\n",
       "  <tbody>\n",
       "    <tr>\n",
       "      <th>0</th>\n",
       "      <td>2500.00</td>\n",
       "      <td>222.61</td>\n",
       "      <td>0.00</td>\n",
       "      <td>0</td>\n",
       "      <td>0</td>\n",
       "      <td>0</td>\n",
       "      <td>1</td>\n",
       "      <td>0</td>\n",
       "      <td>0</td>\n",
       "      <td>0</td>\n",
       "      <td>...</td>\n",
       "      <td>0</td>\n",
       "      <td>0</td>\n",
       "      <td>1</td>\n",
       "      <td>0</td>\n",
       "      <td>0</td>\n",
       "      <td>1</td>\n",
       "      <td>1</td>\n",
       "      <td>0</td>\n",
       "      <td>0</td>\n",
       "      <td>1</td>\n",
       "    </tr>\n",
       "    <tr>\n",
       "      <th>1</th>\n",
       "      <td>49904.26</td>\n",
       "      <td>63.18</td>\n",
       "      <td>95.74</td>\n",
       "      <td>0</td>\n",
       "      <td>0</td>\n",
       "      <td>0</td>\n",
       "      <td>0</td>\n",
       "      <td>0</td>\n",
       "      <td>0</td>\n",
       "      <td>0</td>\n",
       "      <td>...</td>\n",
       "      <td>1</td>\n",
       "      <td>0</td>\n",
       "      <td>1</td>\n",
       "      <td>0</td>\n",
       "      <td>1</td>\n",
       "      <td>0</td>\n",
       "      <td>1</td>\n",
       "      <td>0</td>\n",
       "      <td>0</td>\n",
       "      <td>1</td>\n",
       "    </tr>\n",
       "    <tr>\n",
       "      <th>2</th>\n",
       "      <td>3147.92</td>\n",
       "      <td>57.83</td>\n",
       "      <td>4352.08</td>\n",
       "      <td>0</td>\n",
       "      <td>0</td>\n",
       "      <td>0</td>\n",
       "      <td>0</td>\n",
       "      <td>0</td>\n",
       "      <td>1</td>\n",
       "      <td>0</td>\n",
       "      <td>...</td>\n",
       "      <td>0</td>\n",
       "      <td>0</td>\n",
       "      <td>1</td>\n",
       "      <td>0</td>\n",
       "      <td>1</td>\n",
       "      <td>0</td>\n",
       "      <td>1</td>\n",
       "      <td>0</td>\n",
       "      <td>0</td>\n",
       "      <td>1</td>\n",
       "    </tr>\n",
       "    <tr>\n",
       "      <th>3</th>\n",
       "      <td>3403.54</td>\n",
       "      <td>34.41</td>\n",
       "      <td>6596.46</td>\n",
       "      <td>0</td>\n",
       "      <td>0</td>\n",
       "      <td>0</td>\n",
       "      <td>0</td>\n",
       "      <td>0</td>\n",
       "      <td>0</td>\n",
       "      <td>1</td>\n",
       "      <td>...</td>\n",
       "      <td>0</td>\n",
       "      <td>0</td>\n",
       "      <td>1</td>\n",
       "      <td>0</td>\n",
       "      <td>1</td>\n",
       "      <td>0</td>\n",
       "      <td>1</td>\n",
       "      <td>0</td>\n",
       "      <td>0</td>\n",
       "      <td>1</td>\n",
       "    </tr>\n",
       "    <tr>\n",
       "      <th>4</th>\n",
       "      <td>1760.22</td>\n",
       "      <td>396.22</td>\n",
       "      <td>5739.78</td>\n",
       "      <td>0</td>\n",
       "      <td>0</td>\n",
       "      <td>0</td>\n",
       "      <td>0</td>\n",
       "      <td>0</td>\n",
       "      <td>1</td>\n",
       "      <td>0</td>\n",
       "      <td>...</td>\n",
       "      <td>0</td>\n",
       "      <td>0</td>\n",
       "      <td>1</td>\n",
       "      <td>0</td>\n",
       "      <td>0</td>\n",
       "      <td>1</td>\n",
       "      <td>1</td>\n",
       "      <td>0</td>\n",
       "      <td>0</td>\n",
       "      <td>1</td>\n",
       "    </tr>\n",
       "  </tbody>\n",
       "</table>\n",
       "<p>5 rows × 57 columns</p>\n",
       "</div>"
      ],
      "text/plain": [
       "   availableMoney  transactionAmount  currentBalance  creditLimit_250  \\\n",
       "0         2500.00             222.61            0.00                0   \n",
       "1        49904.26              63.18           95.74                0   \n",
       "2         3147.92              57.83         4352.08                0   \n",
       "3         3403.54              34.41         6596.46                0   \n",
       "4         1760.22             396.22         5739.78                0   \n",
       "\n",
       "   creditLimit_500  creditLimit_1000  creditLimit_2500  creditLimit_5000  \\\n",
       "0                0                 0                 1                 0   \n",
       "1                0                 0                 0                 0   \n",
       "2                0                 0                 0                 0   \n",
       "3                0                 0                 0                 0   \n",
       "4                0                 0                 0                 0   \n",
       "\n",
       "   creditLimit_7500  creditLimit_10000  ...  \\\n",
       "0                 0                  0  ...   \n",
       "1                 0                  0  ...   \n",
       "2                 1                  0  ...   \n",
       "3                 0                  1  ...   \n",
       "4                 1                  0  ...   \n",
       "\n",
       "   merchantCategoryCode_subscriptions  transactionType_ADDRESS_VERIFICATION  \\\n",
       "0                                   0                                     0   \n",
       "1                                   1                                     0   \n",
       "2                                   0                                     0   \n",
       "3                                   0                                     0   \n",
       "4                                   0                                     0   \n",
       "\n",
       "   transactionType_PURCHASE  transactionType_REVERSAL  cardPresent_False  \\\n",
       "0                         1                         0                  0   \n",
       "1                         1                         0                  1   \n",
       "2                         1                         0                  1   \n",
       "3                         1                         0                  1   \n",
       "4                         1                         0                  0   \n",
       "\n",
       "   cardPresent_True  expirationDateKeyInMatch_False  \\\n",
       "0                 1                               1   \n",
       "1                 0                               1   \n",
       "2                 0                               1   \n",
       "3                 0                               1   \n",
       "4                 1                               1   \n",
       "\n",
       "   expirationDateKeyInMatch_True  matchingCVV_False  matchingCVV_True  \n",
       "0                              0                  0                 1  \n",
       "1                              0                  0                 1  \n",
       "2                              0                  0                 1  \n",
       "3                              0                  0                 1  \n",
       "4                              0                  0                 1  \n",
       "\n",
       "[5 rows x 57 columns]"
      ]
     },
     "execution_count": 149,
     "metadata": {},
     "output_type": "execute_result"
    }
   ],
   "source": [
    "Xe.head()"
   ]
  },
  {
   "cell_type": "code",
   "execution_count": 150,
   "metadata": {},
   "outputs": [],
   "source": [
    "# Encoding the Dependent Variable\n",
    "le = LabelEncoder()\n",
    "ye = le.fit_transform(new_y)"
   ]
  },
  {
   "cell_type": "code",
   "execution_count": 151,
   "metadata": {},
   "outputs": [
    {
     "data": {
      "text/html": [
       "<div>\n",
       "<style scoped>\n",
       "    .dataframe tbody tr th:only-of-type {\n",
       "        vertical-align: middle;\n",
       "    }\n",
       "\n",
       "    .dataframe tbody tr th {\n",
       "        vertical-align: top;\n",
       "    }\n",
       "\n",
       "    .dataframe thead th {\n",
       "        text-align: right;\n",
       "    }\n",
       "</style>\n",
       "<table border=\"1\" class=\"dataframe\">\n",
       "  <thead>\n",
       "    <tr style=\"text-align: right;\">\n",
       "      <th></th>\n",
       "      <th>IsFraud</th>\n",
       "    </tr>\n",
       "  </thead>\n",
       "  <tbody>\n",
       "    <tr>\n",
       "      <th>0</th>\n",
       "      <td>0</td>\n",
       "    </tr>\n",
       "    <tr>\n",
       "      <th>1</th>\n",
       "      <td>0</td>\n",
       "    </tr>\n",
       "    <tr>\n",
       "      <th>2</th>\n",
       "      <td>0</td>\n",
       "    </tr>\n",
       "    <tr>\n",
       "      <th>3</th>\n",
       "      <td>0</td>\n",
       "    </tr>\n",
       "    <tr>\n",
       "      <th>4</th>\n",
       "      <td>0</td>\n",
       "    </tr>\n",
       "  </tbody>\n",
       "</table>\n",
       "</div>"
      ],
      "text/plain": [
       "   IsFraud\n",
       "0        0\n",
       "1        0\n",
       "2        0\n",
       "3        0\n",
       "4        0"
      ]
     },
     "execution_count": 151,
     "metadata": {},
     "output_type": "execute_result"
    }
   ],
   "source": [
    "ye = pd.DataFrame(ye,columns=['IsFraud'])\n",
    "ye.head()"
   ]
  },
  {
   "cell_type": "markdown",
   "metadata": {},
   "source": [
    "### Splitting data into training and test set"
   ]
  },
  {
   "cell_type": "markdown",
   "metadata": {},
   "source": [
    "#### Splitting the training and test data with a ratio of 80:20 %"
   ]
  },
  {
   "cell_type": "code",
   "execution_count": 152,
   "metadata": {},
   "outputs": [],
   "source": [
    "# Splitting into training and test set\n",
    "X_train, X_test, y_train, y_test = train_test_split(Xe, ye, test_size =\n",
    "0.2, random_state = 1)"
   ]
  },
  {
   "cell_type": "code",
   "execution_count": 154,
   "metadata": {},
   "outputs": [],
   "source": [
    "# Standardization\n",
    "from sklearn.preprocessing import StandardScaler\n",
    "sc = StandardScaler()\n",
    "X_train.iloc[:, :3] = sc.fit_transform(X_train.iloc[:, :3])\n",
    "X_test.iloc[:, :3] = sc.transform(X_test.iloc[:, :3])"
   ]
  },
  {
   "cell_type": "code",
   "execution_count": 158,
   "metadata": {},
   "outputs": [
    {
     "data": {
      "text/html": [
       "<div>\n",
       "<style scoped>\n",
       "    .dataframe tbody tr th:only-of-type {\n",
       "        vertical-align: middle;\n",
       "    }\n",
       "\n",
       "    .dataframe tbody tr th {\n",
       "        vertical-align: top;\n",
       "    }\n",
       "\n",
       "    .dataframe thead th {\n",
       "        text-align: right;\n",
       "    }\n",
       "</style>\n",
       "<table border=\"1\" class=\"dataframe\">\n",
       "  <thead>\n",
       "    <tr style=\"text-align: right;\">\n",
       "      <th></th>\n",
       "      <th>availableMoney</th>\n",
       "      <th>transactionAmount</th>\n",
       "      <th>currentBalance</th>\n",
       "      <th>creditLimit_250</th>\n",
       "      <th>creditLimit_500</th>\n",
       "      <th>creditLimit_1000</th>\n",
       "      <th>creditLimit_2500</th>\n",
       "      <th>creditLimit_5000</th>\n",
       "      <th>creditLimit_7500</th>\n",
       "      <th>creditLimit_10000</th>\n",
       "      <th>...</th>\n",
       "      <th>merchantCategoryCode_subscriptions</th>\n",
       "      <th>transactionType_ADDRESS_VERIFICATION</th>\n",
       "      <th>transactionType_PURCHASE</th>\n",
       "      <th>transactionType_REVERSAL</th>\n",
       "      <th>cardPresent_False</th>\n",
       "      <th>cardPresent_True</th>\n",
       "      <th>expirationDateKeyInMatch_False</th>\n",
       "      <th>expirationDateKeyInMatch_True</th>\n",
       "      <th>matchingCVV_False</th>\n",
       "      <th>matchingCVV_True</th>\n",
       "    </tr>\n",
       "  </thead>\n",
       "  <tbody>\n",
       "    <tr>\n",
       "      <th>18657</th>\n",
       "      <td>0.340986</td>\n",
       "      <td>-0.376236</td>\n",
       "      <td>0.177779</td>\n",
       "      <td>0</td>\n",
       "      <td>0</td>\n",
       "      <td>0</td>\n",
       "      <td>0</td>\n",
       "      <td>0</td>\n",
       "      <td>0</td>\n",
       "      <td>0</td>\n",
       "      <td>...</td>\n",
       "      <td>1</td>\n",
       "      <td>0</td>\n",
       "      <td>1</td>\n",
       "      <td>0</td>\n",
       "      <td>0</td>\n",
       "      <td>1</td>\n",
       "      <td>1</td>\n",
       "      <td>0</td>\n",
       "      <td>0</td>\n",
       "      <td>1</td>\n",
       "    </tr>\n",
       "    <tr>\n",
       "      <th>73224</th>\n",
       "      <td>-0.304115</td>\n",
       "      <td>0.825270</td>\n",
       "      <td>1.047963</td>\n",
       "      <td>0</td>\n",
       "      <td>0</td>\n",
       "      <td>0</td>\n",
       "      <td>0</td>\n",
       "      <td>0</td>\n",
       "      <td>0</td>\n",
       "      <td>0</td>\n",
       "      <td>...</td>\n",
       "      <td>0</td>\n",
       "      <td>0</td>\n",
       "      <td>1</td>\n",
       "      <td>0</td>\n",
       "      <td>0</td>\n",
       "      <td>1</td>\n",
       "      <td>1</td>\n",
       "      <td>0</td>\n",
       "      <td>0</td>\n",
       "      <td>1</td>\n",
       "    </tr>\n",
       "    <tr>\n",
       "      <th>47387</th>\n",
       "      <td>0.986453</td>\n",
       "      <td>-0.877938</td>\n",
       "      <td>-0.692898</td>\n",
       "      <td>0</td>\n",
       "      <td>0</td>\n",
       "      <td>0</td>\n",
       "      <td>0</td>\n",
       "      <td>0</td>\n",
       "      <td>0</td>\n",
       "      <td>0</td>\n",
       "      <td>...</td>\n",
       "      <td>0</td>\n",
       "      <td>0</td>\n",
       "      <td>1</td>\n",
       "      <td>0</td>\n",
       "      <td>0</td>\n",
       "      <td>1</td>\n",
       "      <td>1</td>\n",
       "      <td>0</td>\n",
       "      <td>0</td>\n",
       "      <td>1</td>\n",
       "    </tr>\n",
       "    <tr>\n",
       "      <th>5112</th>\n",
       "      <td>-0.679074</td>\n",
       "      <td>0.569646</td>\n",
       "      <td>-0.689766</td>\n",
       "      <td>1</td>\n",
       "      <td>0</td>\n",
       "      <td>0</td>\n",
       "      <td>0</td>\n",
       "      <td>0</td>\n",
       "      <td>0</td>\n",
       "      <td>0</td>\n",
       "      <td>...</td>\n",
       "      <td>0</td>\n",
       "      <td>0</td>\n",
       "      <td>1</td>\n",
       "      <td>0</td>\n",
       "      <td>1</td>\n",
       "      <td>0</td>\n",
       "      <td>1</td>\n",
       "      <td>0</td>\n",
       "      <td>0</td>\n",
       "      <td>1</td>\n",
       "    </tr>\n",
       "    <tr>\n",
       "      <th>34463</th>\n",
       "      <td>0.019494</td>\n",
       "      <td>-0.920858</td>\n",
       "      <td>0.611444</td>\n",
       "      <td>0</td>\n",
       "      <td>0</td>\n",
       "      <td>0</td>\n",
       "      <td>0</td>\n",
       "      <td>0</td>\n",
       "      <td>0</td>\n",
       "      <td>0</td>\n",
       "      <td>...</td>\n",
       "      <td>0</td>\n",
       "      <td>0</td>\n",
       "      <td>1</td>\n",
       "      <td>0</td>\n",
       "      <td>1</td>\n",
       "      <td>0</td>\n",
       "      <td>1</td>\n",
       "      <td>0</td>\n",
       "      <td>0</td>\n",
       "      <td>1</td>\n",
       "    </tr>\n",
       "  </tbody>\n",
       "</table>\n",
       "<p>5 rows × 57 columns</p>\n",
       "</div>"
      ],
      "text/plain": [
       "       availableMoney  transactionAmount  currentBalance  creditLimit_250  \\\n",
       "18657        0.340986          -0.376236        0.177779                0   \n",
       "73224       -0.304115           0.825270        1.047963                0   \n",
       "47387        0.986453          -0.877938       -0.692898                0   \n",
       "5112        -0.679074           0.569646       -0.689766                1   \n",
       "34463        0.019494          -0.920858        0.611444                0   \n",
       "\n",
       "       creditLimit_500  creditLimit_1000  creditLimit_2500  creditLimit_5000  \\\n",
       "18657                0                 0                 0                 0   \n",
       "73224                0                 0                 0                 0   \n",
       "47387                0                 0                 0                 0   \n",
       "5112                 0                 0                 0                 0   \n",
       "34463                0                 0                 0                 0   \n",
       "\n",
       "       creditLimit_7500  creditLimit_10000  ...  \\\n",
       "18657                 0                  0  ...   \n",
       "73224                 0                  0  ...   \n",
       "47387                 0                  0  ...   \n",
       "5112                  0                  0  ...   \n",
       "34463                 0                  0  ...   \n",
       "\n",
       "       merchantCategoryCode_subscriptions  \\\n",
       "18657                                   1   \n",
       "73224                                   0   \n",
       "47387                                   0   \n",
       "5112                                    0   \n",
       "34463                                   0   \n",
       "\n",
       "       transactionType_ADDRESS_VERIFICATION  transactionType_PURCHASE  \\\n",
       "18657                                     0                         1   \n",
       "73224                                     0                         1   \n",
       "47387                                     0                         1   \n",
       "5112                                      0                         1   \n",
       "34463                                     0                         1   \n",
       "\n",
       "       transactionType_REVERSAL  cardPresent_False  cardPresent_True  \\\n",
       "18657                         0                  0                 1   \n",
       "73224                         0                  0                 1   \n",
       "47387                         0                  0                 1   \n",
       "5112                          0                  1                 0   \n",
       "34463                         0                  1                 0   \n",
       "\n",
       "       expirationDateKeyInMatch_False  expirationDateKeyInMatch_True  \\\n",
       "18657                               1                              0   \n",
       "73224                               1                              0   \n",
       "47387                               1                              0   \n",
       "5112                                1                              0   \n",
       "34463                               1                              0   \n",
       "\n",
       "       matchingCVV_False  matchingCVV_True  \n",
       "18657                  0                 1  \n",
       "73224                  0                 1  \n",
       "47387                  0                 1  \n",
       "5112                   0                 1  \n",
       "34463                  0                 1  \n",
       "\n",
       "[5 rows x 57 columns]"
      ]
     },
     "execution_count": 158,
     "metadata": {},
     "output_type": "execute_result"
    }
   ],
   "source": [
    "X_train.head()"
   ]
  },
  {
   "cell_type": "code",
   "execution_count": 157,
   "metadata": {},
   "outputs": [
    {
     "data": {
      "text/html": [
       "<div>\n",
       "<style scoped>\n",
       "    .dataframe tbody tr th:only-of-type {\n",
       "        vertical-align: middle;\n",
       "    }\n",
       "\n",
       "    .dataframe tbody tr th {\n",
       "        vertical-align: top;\n",
       "    }\n",
       "\n",
       "    .dataframe thead th {\n",
       "        text-align: right;\n",
       "    }\n",
       "</style>\n",
       "<table border=\"1\" class=\"dataframe\">\n",
       "  <thead>\n",
       "    <tr style=\"text-align: right;\">\n",
       "      <th></th>\n",
       "      <th>availableMoney</th>\n",
       "      <th>transactionAmount</th>\n",
       "      <th>currentBalance</th>\n",
       "      <th>creditLimit_250</th>\n",
       "      <th>creditLimit_500</th>\n",
       "      <th>creditLimit_1000</th>\n",
       "      <th>creditLimit_2500</th>\n",
       "      <th>creditLimit_5000</th>\n",
       "      <th>creditLimit_7500</th>\n",
       "      <th>creditLimit_10000</th>\n",
       "      <th>...</th>\n",
       "      <th>merchantCategoryCode_subscriptions</th>\n",
       "      <th>transactionType_ADDRESS_VERIFICATION</th>\n",
       "      <th>transactionType_PURCHASE</th>\n",
       "      <th>transactionType_REVERSAL</th>\n",
       "      <th>cardPresent_False</th>\n",
       "      <th>cardPresent_True</th>\n",
       "      <th>expirationDateKeyInMatch_False</th>\n",
       "      <th>expirationDateKeyInMatch_True</th>\n",
       "      <th>matchingCVV_False</th>\n",
       "      <th>matchingCVV_True</th>\n",
       "    </tr>\n",
       "  </thead>\n",
       "  <tbody>\n",
       "    <tr>\n",
       "      <th>42020</th>\n",
       "      <td>14829.92</td>\n",
       "      <td>183.97</td>\n",
       "      <td>170.08</td>\n",
       "      <td>0</td>\n",
       "      <td>0</td>\n",
       "      <td>0</td>\n",
       "      <td>0</td>\n",
       "      <td>0</td>\n",
       "      <td>0</td>\n",
       "      <td>0</td>\n",
       "      <td>...</td>\n",
       "      <td>0</td>\n",
       "      <td>0</td>\n",
       "      <td>1</td>\n",
       "      <td>0</td>\n",
       "      <td>1</td>\n",
       "      <td>0</td>\n",
       "      <td>1</td>\n",
       "      <td>0</td>\n",
       "      <td>0</td>\n",
       "      <td>1</td>\n",
       "    </tr>\n",
       "    <tr>\n",
       "      <th>31271</th>\n",
       "      <td>1389.16</td>\n",
       "      <td>149.31</td>\n",
       "      <td>6110.84</td>\n",
       "      <td>0</td>\n",
       "      <td>0</td>\n",
       "      <td>0</td>\n",
       "      <td>0</td>\n",
       "      <td>0</td>\n",
       "      <td>1</td>\n",
       "      <td>0</td>\n",
       "      <td>...</td>\n",
       "      <td>0</td>\n",
       "      <td>0</td>\n",
       "      <td>1</td>\n",
       "      <td>0</td>\n",
       "      <td>1</td>\n",
       "      <td>0</td>\n",
       "      <td>1</td>\n",
       "      <td>0</td>\n",
       "      <td>0</td>\n",
       "      <td>1</td>\n",
       "    </tr>\n",
       "    <tr>\n",
       "      <th>59464</th>\n",
       "      <td>42102.75</td>\n",
       "      <td>20.62</td>\n",
       "      <td>7897.25</td>\n",
       "      <td>0</td>\n",
       "      <td>0</td>\n",
       "      <td>0</td>\n",
       "      <td>0</td>\n",
       "      <td>0</td>\n",
       "      <td>0</td>\n",
       "      <td>0</td>\n",
       "      <td>...</td>\n",
       "      <td>0</td>\n",
       "      <td>0</td>\n",
       "      <td>1</td>\n",
       "      <td>0</td>\n",
       "      <td>0</td>\n",
       "      <td>1</td>\n",
       "      <td>1</td>\n",
       "      <td>0</td>\n",
       "      <td>0</td>\n",
       "      <td>1</td>\n",
       "    </tr>\n",
       "    <tr>\n",
       "      <th>29610</th>\n",
       "      <td>6419.03</td>\n",
       "      <td>114.29</td>\n",
       "      <td>43580.97</td>\n",
       "      <td>0</td>\n",
       "      <td>0</td>\n",
       "      <td>0</td>\n",
       "      <td>0</td>\n",
       "      <td>0</td>\n",
       "      <td>0</td>\n",
       "      <td>0</td>\n",
       "      <td>...</td>\n",
       "      <td>0</td>\n",
       "      <td>0</td>\n",
       "      <td>1</td>\n",
       "      <td>0</td>\n",
       "      <td>0</td>\n",
       "      <td>1</td>\n",
       "      <td>1</td>\n",
       "      <td>0</td>\n",
       "      <td>0</td>\n",
       "      <td>1</td>\n",
       "    </tr>\n",
       "    <tr>\n",
       "      <th>5947</th>\n",
       "      <td>1265.69</td>\n",
       "      <td>216.32</td>\n",
       "      <td>3734.31</td>\n",
       "      <td>0</td>\n",
       "      <td>0</td>\n",
       "      <td>0</td>\n",
       "      <td>0</td>\n",
       "      <td>1</td>\n",
       "      <td>0</td>\n",
       "      <td>0</td>\n",
       "      <td>...</td>\n",
       "      <td>0</td>\n",
       "      <td>0</td>\n",
       "      <td>1</td>\n",
       "      <td>0</td>\n",
       "      <td>0</td>\n",
       "      <td>1</td>\n",
       "      <td>1</td>\n",
       "      <td>0</td>\n",
       "      <td>0</td>\n",
       "      <td>1</td>\n",
       "    </tr>\n",
       "  </tbody>\n",
       "</table>\n",
       "<p>5 rows × 57 columns</p>\n",
       "</div>"
      ],
      "text/plain": [
       "       availableMoney  transactionAmount  currentBalance  creditLimit_250  \\\n",
       "42020        14829.92             183.97          170.08                0   \n",
       "31271         1389.16             149.31         6110.84                0   \n",
       "59464        42102.75              20.62         7897.25                0   \n",
       "29610         6419.03             114.29        43580.97                0   \n",
       "5947          1265.69             216.32         3734.31                0   \n",
       "\n",
       "       creditLimit_500  creditLimit_1000  creditLimit_2500  creditLimit_5000  \\\n",
       "42020                0                 0                 0                 0   \n",
       "31271                0                 0                 0                 0   \n",
       "59464                0                 0                 0                 0   \n",
       "29610                0                 0                 0                 0   \n",
       "5947                 0                 0                 0                 1   \n",
       "\n",
       "       creditLimit_7500  creditLimit_10000  ...  \\\n",
       "42020                 0                  0  ...   \n",
       "31271                 1                  0  ...   \n",
       "59464                 0                  0  ...   \n",
       "29610                 0                  0  ...   \n",
       "5947                  0                  0  ...   \n",
       "\n",
       "       merchantCategoryCode_subscriptions  \\\n",
       "42020                                   0   \n",
       "31271                                   0   \n",
       "59464                                   0   \n",
       "29610                                   0   \n",
       "5947                                    0   \n",
       "\n",
       "       transactionType_ADDRESS_VERIFICATION  transactionType_PURCHASE  \\\n",
       "42020                                     0                         1   \n",
       "31271                                     0                         1   \n",
       "59464                                     0                         1   \n",
       "29610                                     0                         1   \n",
       "5947                                      0                         1   \n",
       "\n",
       "       transactionType_REVERSAL  cardPresent_False  cardPresent_True  \\\n",
       "42020                         0                  1                 0   \n",
       "31271                         0                  1                 0   \n",
       "59464                         0                  0                 1   \n",
       "29610                         0                  0                 1   \n",
       "5947                          0                  0                 1   \n",
       "\n",
       "       expirationDateKeyInMatch_False  expirationDateKeyInMatch_True  \\\n",
       "42020                               1                              0   \n",
       "31271                               1                              0   \n",
       "59464                               1                              0   \n",
       "29610                               1                              0   \n",
       "5947                                1                              0   \n",
       "\n",
       "       matchingCVV_False  matchingCVV_True  \n",
       "42020                  0                 1  \n",
       "31271                  0                 1  \n",
       "59464                  0                 1  \n",
       "29610                  0                 1  \n",
       "5947                   0                 1  \n",
       "\n",
       "[5 rows x 57 columns]"
      ]
     },
     "execution_count": 157,
     "metadata": {},
     "output_type": "execute_result"
    }
   ],
   "source": [
    "X_test.head()"
   ]
  },
  {
   "cell_type": "markdown",
   "metadata": {},
   "source": [
    "## Logistic Regression"
   ]
  },
  {
   "cell_type": "code",
   "execution_count": 209,
   "metadata": {},
   "outputs": [],
   "source": [
    "from sklearn.linear_model import LogisticRegression"
   ]
  },
  {
   "cell_type": "code",
   "execution_count": 210,
   "metadata": {},
   "outputs": [
    {
     "name": "stderr",
     "output_type": "stream",
     "text": [
      "C:\\Users\\niraj\\AppData\\Roaming\\Python\\Python38\\site-packages\\sklearn\\utils\\validation.py:985: DataConversionWarning: A column-vector y was passed when a 1d array was expected. Please change the shape of y to (n_samples, ), for example using ravel().\n",
      "  y = column_or_1d(y, warn=True)\n",
      "C:\\Users\\niraj\\AppData\\Roaming\\Python\\Python38\\site-packages\\sklearn\\linear_model\\_logistic.py:814: ConvergenceWarning: lbfgs failed to converge (status=1):\n",
      "STOP: TOTAL NO. of ITERATIONS REACHED LIMIT.\n",
      "\n",
      "Increase the number of iterations (max_iter) or scale the data as shown in:\n",
      "    https://scikit-learn.org/stable/modules/preprocessing.html\n",
      "Please also refer to the documentation for alternative solver options:\n",
      "    https://scikit-learn.org/stable/modules/linear_model.html#logistic-regression\n",
      "  n_iter_i = _check_optimize_result(\n"
     ]
    },
    {
     "data": {
      "text/plain": [
       "LogisticRegression(random_state=0)"
      ]
     },
     "execution_count": 210,
     "metadata": {},
     "output_type": "execute_result"
    }
   ],
   "source": [
    "classifier = LogisticRegression(random_state = 0)\n",
    "classifier.fit(X_train, y_train)"
   ]
  },
  {
   "cell_type": "code",
   "execution_count": 211,
   "metadata": {},
   "outputs": [],
   "source": [
    "preds = classifier.predict(X_test)"
   ]
  },
  {
   "cell_type": "code",
   "execution_count": 212,
   "metadata": {},
   "outputs": [
    {
     "data": {
      "text/plain": [
       "(array([0.5, 1.5]), <a list of 2 Text major ticklabel objects>)"
      ]
     },
     "execution_count": 212,
     "metadata": {},
     "output_type": "execute_result"
    },
    {
     "data": {
      "image/png": "[encoded data removed]",
      "text/plain": [
       "<Figure size 432x288 with 2 Axes>"
      ]
     },
     "metadata": {
      "needs_background": "light"
     },
     "output_type": "display_data"
    }
   ],
   "source": [
    "# visualize confusion matrix with seaborn heatmap\n",
    "CM=confusion_matrix(y_test, preds)\n",
    "\n",
    "cm_matrix = pd.DataFrame(data=CM, columns=['Predict Positive:0', 'Predict Negative:1'], index=['Actual Positive:0', 'Actual Negative:1'])\n",
    "sns.heatmap(cm_matrix, annot=True, fmt='d', cmap='RdYlGn')\n",
    "plt.yticks(rotation=30)"
   ]
  },
  {
   "cell_type": "code",
   "execution_count": 213,
   "metadata": {},
   "outputs": [
    {
     "name": "stdout",
     "output_type": "stream",
     "text": [
      "Accuracy: 0.6936\n"
     ]
    }
   ],
   "source": [
    "# Model Accuracy, how often is the classifier correct?\n",
    "print(\"Accuracy:\",round(accuracy_score(y_test, y_pred),4))"
   ]
  },
  {
   "cell_type": "code",
   "execution_count": 214,
   "metadata": {},
   "outputs": [
    {
     "name": "stdout",
     "output_type": "stream",
     "text": [
      "Precision Score: 0.2612\n"
     ]
    }
   ],
   "source": [
    "#Precision score on the test data\n",
    "from sklearn.metrics import accuracy_score,precision_score, recall_score, f1_score,confusion_matrix\n",
    "print(\"Precision Score:\",round(precision_score(y_test, y_pred),4))"
   ]
  },
  {
   "cell_type": "code",
   "execution_count": 215,
   "metadata": {},
   "outputs": [
    {
     "name": "stdout",
     "output_type": "stream",
     "text": [
      "F-1 Score: 0.3352\n"
     ]
    }
   ],
   "source": [
    "#check precision rate score on validation data\n",
    "print(\"F-1 Score:\",round(f1_score(y_test, y_pred),4)) "
   ]
  },
  {
   "cell_type": "markdown",
   "metadata": {},
   "source": [
    "## Random Forest classifier"
   ]
  },
  {
   "cell_type": "code",
   "execution_count": 175,
   "metadata": {},
   "outputs": [],
   "source": [
    "from sklearn.ensemble import RandomForestClassifier"
   ]
  },
  {
   "cell_type": "code",
   "execution_count": 188,
   "metadata": {},
   "outputs": [],
   "source": [
    "classifier = RandomForestClassifier(n_estimators = 10, criterion ='entropy', random_state = 0)"
   ]
  },
  {
   "cell_type": "code",
   "execution_count": 189,
   "metadata": {},
   "outputs": [
    {
     "name": "stderr",
     "output_type": "stream",
     "text": [
      "<ipython-input-189-f44724590846>:1: DataConversionWarning: A column-vector y was passed when a 1d array was expected. Please change the shape of y to (n_samples,), for example using ravel().\n",
      "  classifier.fit(X_train, y_train)\n"
     ]
    },
    {
     "data": {
      "text/plain": [
       "RandomForestClassifier(criterion='entropy', n_estimators=10, random_state=0)"
      ]
     },
     "execution_count": 189,
     "metadata": {},
     "output_type": "execute_result"
    }
   ],
   "source": [
    "classifier.fit(X_train, y_train)"
   ]
  },
  {
   "cell_type": "code",
   "execution_count": 190,
   "metadata": {},
   "outputs": [],
   "source": [
    "# Predicting the Test set results\n",
    "y_pred = classifier.predict(X_test)"
   ]
  },
  {
   "cell_type": "code",
   "execution_count": 191,
   "metadata": {},
   "outputs": [
    {
     "data": {
      "text/plain": [
       "(array([0.5, 1.5]), <a list of 2 Text major ticklabel objects>)"
      ]
     },
     "execution_count": 191,
     "metadata": {},
     "output_type": "execute_result"
    },
    {
     "data": {
      "image/png": "[encoded data removed]",
      "text/plain": [
       "<Figure size 432x288 with 2 Axes>"
      ]
     },
     "metadata": {
      "needs_background": "light"
     },
     "output_type": "display_data"
    }
   ],
   "source": [
    "# visualize confusion matrix with seaborn heatmap\n",
    "CM=confusion_matrix(y_test, y_pred)\n",
    "\n",
    "cm_matrix = pd.DataFrame(data=CM, columns=['Predict Positive:0', 'Predict Negative:1'], index=['Actual Positive:0', 'Actual Negative:1'])\n",
    "sns.heatmap(cm_matrix, annot=True, fmt='d', cmap='RdYlGn')\n",
    "plt.yticks(rotation=30)"
   ]
  },
  {
   "cell_type": "code",
   "execution_count": 192,
   "metadata": {},
   "outputs": [
    {
     "name": "stdout",
     "output_type": "stream",
     "text": [
      "Accuracy: 0.6936\n"
     ]
    }
   ],
   "source": [
    "# Model Accuracy, how often is the classifier correct?\n",
    "print(\"Accuracy:\",round(accuracy_score(y_test, y_pred),4))"
   ]
  },
  {
   "cell_type": "code",
   "execution_count": 193,
   "metadata": {},
   "outputs": [
    {
     "name": "stdout",
     "output_type": "stream",
     "text": [
      "Precision Score: 0.2612\n"
     ]
    }
   ],
   "source": [
    "# Precision score on the test data\n",
    "from sklearn.metrics import accuracy_score,precision_score, recall_score, f1_score,confusion_matrix\n",
    "print(\"Precision Score:\",round(precision_score(y_test, y_pred),4))"
   ]
  },
  {
   "cell_type": "code",
   "execution_count": 172,
   "metadata": {},
   "outputs": [
    {
     "name": "stdout",
     "output_type": "stream",
     "text": [
      "F-1 Score: 0.3352\n"
     ]
    }
   ],
   "source": [
    "#check precision rate score on validation data\n",
    "print(\"F-1 Score:\",round(f1_score(y_test, y_pred),4)) "
   ]
  },
  {
   "cell_type": "code",
   "execution_count": 227,
   "metadata": {},
   "outputs": [],
   "source": [
    "def plot_feature_importance(importance,names,model_type):\n",
    "\n",
    "    #Create arrays from feature importance and feature names\n",
    "    feature_importance = np.array(importance)\n",
    "    feature_names = np.array(names)\n",
    "\n",
    "    #Create a DataFrame using a Dictionary\n",
    "    data={'feature_names':feature_names,'feature_importance':feature_importance}\n",
    "    fi_df = pd.DataFrame(data)\n",
    "\n",
    "    #Sort the DataFrame in order decreasing feature importance\n",
    "    fi_df.sort_values(by=['feature_importance'], ascending=False,inplace=True)\n",
    "\n",
    "    #Define size of bar plot\n",
    "    plt.figure(figsize=(18,9))\n",
    "    #Plot Searborn bar chart\n",
    "    sns.barplot(x=fi_df['feature_importance'], y=fi_df['feature_names'])\n",
    "    #Add chart labels\n",
    "    plt.title(model_type + \" \" +'Feature Importance',weight='bold')\n",
    "    plt.xlabel('Feature Importance')\n",
    "    plt.ylabel('Feature Names')"
   ]
  },
  {
   "cell_type": "code",
   "execution_count": 228,
   "metadata": {},
   "outputs": [
    {
     "data": {
      "image/png": "[encoded data removed]",
      "text/plain": [
       "<Figure size 1296x648 with 1 Axes>"
      ]
     },
     "metadata": {
      "needs_background": "light"
     },
     "output_type": "display_data"
    }
   ],
   "source": [
    "plot_feature_importance(classifier.feature_importances_,X_train.columns,'Random Forest')"
   ]
  },
  {
   "cell_type": "markdown",
   "metadata": {},
   "source": [
    "## Gradient Boosting"
   ]
  },
  {
   "cell_type": "code",
   "execution_count": 198,
   "metadata": {},
   "outputs": [
    {
     "ename": "ImportError",
     "evalue": "cannot import name 'GradientBoostingCla1ssifier' from 'sklearn.ensemble' (C:\\Users\\niraj\\AppData\\Roaming\\Python\\Python38\\site-packages\\sklearn\\ensemble\\__init__.py)",
     "output_type": "error",
     "traceback": [
      "\u001b[1;31m---------------------------------------------------------------------------\u001b[0m",
      "\u001b[1;31mImportError\u001b[0m                               Traceback (most recent call last)",
      "\u001b[1;32m<ipython-input-198-971c4f7d0faf>\u001b[0m in \u001b[0;36m<module>\u001b[1;34m\u001b[0m\n\u001b[1;32m----> 1\u001b[1;33m \u001b[1;32mfrom\u001b[0m \u001b[0msklearn\u001b[0m\u001b[1;33m.\u001b[0m\u001b[0mensemble\u001b[0m \u001b[1;32mimport\u001b[0m \u001b[0mGradientBoostingCla1ssifier\u001b[0m\u001b[1;33m\u001b[0m\u001b[1;33m\u001b[0m\u001b[0m\n\u001b[0m",
      "\u001b[1;31mImportError\u001b[0m: cannot import name 'GradientBoostingCla1ssifier' from 'sklearn.ensemble' (C:\\Users\\niraj\\AppData\\Roaming\\Python\\Python38\\site-packages\\sklearn\\ensemble\\__init__.py)"
     ]
    }
   ],
   "source": [
    "from sklearn.ensemble import GradientBoostingCla1ssifier"
   ]
  },
  {
   "cell_type": "code",
   "execution_count": 199,
   "metadata": {},
   "outputs": [
    {
     "name": "stderr",
     "output_type": "stream",
     "text": [
      "C:\\Users\\niraj\\AppData\\Roaming\\Python\\Python38\\site-packages\\sklearn\\ensemble\\_gb.py:494: DataConversionWarning: A column-vector y was passed when a 1d array was expected. Please change the shape of y to (n_samples, ), for example using ravel().\n",
      "  y = column_or_1d(y, warn=True)\n"
     ]
    }
   ],
   "source": [
    "clf = GradientBoostingClassifier(n_estimators=100, \n",
    "                                 learning_rate=0.1,\n",
    "                                 max_depth=3, \n",
    "                                 random_state=5).fit(X_train, y_train)"
   ]
  },
  {
   "cell_type": "code",
   "execution_count": 200,
   "metadata": {},
   "outputs": [],
   "source": [
    "predictions = clf.predict(X_test)"
   ]
  },
  {
   "cell_type": "code",
   "execution_count": 202,
   "metadata": {},
   "outputs": [
    {
     "data": {
      "text/plain": [
       "(array([0.5, 1.5]), <a list of 2 Text major ticklabel objects>)"
      ]
     },
     "execution_count": 202,
     "metadata": {},
     "output_type": "execute_result"
    },
    {
     "data": {
      "image/png": "[encoded data removed]",
      "text/plain": [
       "<Figure size 432x288 with 2 Axes>"
      ]
     },
     "metadata": {
      "needs_background": "light"
     },
     "output_type": "display_data"
    }
   ],
   "source": [
    "# visualize confusion matrix with seaborn heatmap\n",
    "CM_grb=confusion_matrix(y_test, predictions)\n",
    "\n",
    "cm_matr = pd.DataFrame(data=CM_grb, columns=['Predict Positive:0', 'Predict Negative:1'], index=['Actual Positive:0', 'Actual Negative:1'])\n",
    "sns.heatmap(cm_matr, annot=True, fmt='d', cmap='RdYlGn')\n",
    "plt.yticks(rotation=30)"
   ]
  },
  {
   "cell_type": "code",
   "execution_count": 204,
   "metadata": {},
   "outputs": [
    {
     "name": "stdout",
     "output_type": "stream",
     "text": [
      "Accuracy: 0.5835\n"
     ]
    }
   ],
   "source": [
    "# Model Accuracy\n",
    "print(\"Accuracy:\",round(accuracy_score(y_test, predictions),4))"
   ]
  },
  {
   "cell_type": "code",
   "execution_count": 207,
   "metadata": {},
   "outputs": [
    {
     "name": "stdout",
     "output_type": "stream",
     "text": [
      "Precision Score: 0.2445\n"
     ]
    }
   ],
   "source": [
    "# Precision Score on the test data\n",
    "print(\"Precision Score:\",round(precision_score(y_test, predictions),4))"
   ]
  },
  {
   "cell_type": "code",
   "execution_count": 208,
   "metadata": {},
   "outputs": [
    {
     "name": "stdout",
     "output_type": "stream",
     "text": [
      "F-1 Score: 0.3662\n"
     ]
    }
   ],
   "source": [
    "# Precision Score on the test data\n",
    "print(\"F-1 Score:\",round(f1_score(y_test, predictions),4))"
   ]
  },
  {
   "cell_type": "markdown",
   "metadata": {},
   "source": [
    "## XGBoost"
   ]
  },
  {
   "cell_type": "code",
   "execution_count": 218,
   "metadata": {},
   "outputs": [
    {
     "name": "stderr",
     "output_type": "stream",
     "text": [
      "C:\\Users\\niraj\\anaconda3\\lib\\site-packages\\xgboost\\sklearn.py:1146: UserWarning: The use of label encoder in XGBClassifier is deprecated and will be removed in a future release. To remove this warning, do the following: 1) Pass option use_label_encoder=False when constructing XGBClassifier object; and 2) Encode your labels (y) as integers starting with 0, i.e. 0, 1, 2, ..., [num_class - 1].\n",
      "  warnings.warn(label_encoder_deprecation_msg, UserWarning)\n",
      "C:\\Users\\niraj\\AppData\\Roaming\\Python\\Python38\\site-packages\\sklearn\\preprocessing\\_label.py:98: DataConversionWarning: A column-vector y was passed when a 1d array was expected. Please change the shape of y to (n_samples, ), for example using ravel().\n",
      "  y = column_or_1d(y, warn=True)\n",
      "C:\\Users\\niraj\\AppData\\Roaming\\Python\\Python38\\site-packages\\sklearn\\preprocessing\\_label.py:133: DataConversionWarning: A column-vector y was passed when a 1d array was expected. Please change the shape of y to (n_samples, ), for example using ravel().\n",
      "  y = column_or_1d(y, warn=True)\n"
     ]
    },
    {
     "name": "stdout",
     "output_type": "stream",
     "text": [
      "[06:58:12] WARNING: C:/Users/Administrator/workspace/xgboost-win64_release_1.4.0/src/learner.cc:1095: Starting in XGBoost 1.3.0, the default evaluation metric used with the objective 'binary:logistic' was changed from 'error' to 'logloss'. Explicitly set eval_metric if you'd like to restore the old behavior.\n"
     ]
    },
    {
     "data": {
      "text/plain": [
       "XGBClassifier(base_score=0.5, booster='gbtree', colsample_bylevel=1,\n",
       "              colsample_bynode=1, colsample_bytree=1, gamma=0, gpu_id=-1,\n",
       "              importance_type='gain', interaction_constraints='',\n",
       "              learning_rate=0.300000012, max_delta_step=0, max_depth=6,\n",
       "              min_child_weight=1, missing=nan, monotone_constraints='()',\n",
       "              n_estimators=100, n_jobs=8, num_parallel_tree=1, random_state=0,\n",
       "              reg_alpha=0, reg_lambda=1, scale_pos_weight=1, subsample=1,\n",
       "              tree_method='exact', validate_parameters=1, verbosity=None)"
      ]
     },
     "execution_count": 218,
     "metadata": {},
     "output_type": "execute_result"
    }
   ],
   "source": [
    "from xgboost import XGBClassifier\n",
    "classifier = XGBClassifier()\n",
    "classifier.fit(X_train, y_train)"
   ]
  },
  {
   "cell_type": "code",
   "execution_count": 219,
   "metadata": {},
   "outputs": [],
   "source": [
    "xg_pred = classifier.predict(X_test)"
   ]
  },
  {
   "cell_type": "code",
   "execution_count": 220,
   "metadata": {},
   "outputs": [
    {
     "data": {
      "text/plain": [
       "(array([0.5, 1.5]), <a list of 2 Text major ticklabel objects>)"
      ]
     },
     "execution_count": 220,
     "metadata": {},
     "output_type": "execute_result"
    },
    {
     "data": {
      "image/png": "[encoded data removed]",
      "text/plain": [
       "<Figure size 432x288 with 2 Axes>"
      ]
     },
     "metadata": {
      "needs_background": "light"
     },
     "output_type": "display_data"
    }
   ],
   "source": [
    "# visualize confusion matrix with seaborn heatmap\n",
    "CM_grb=confusion_matrix(y_test, xg_pred)\n",
    "\n",
    "cm_matr = pd.DataFrame(data=CM_grb, columns=['Predict Positive:0', 'Predict Negative:1'], index=['Actual Positive:0', 'Actual Negative:1'])\n",
    "sns.heatmap(cm_matr, annot=True, fmt='d', cmap='RdYlGn')\n",
    "plt.yticks(rotation=30)"
   ]
  },
  {
   "cell_type": "code",
   "execution_count": 221,
   "metadata": {},
   "outputs": [
    {
     "name": "stdout",
     "output_type": "stream",
     "text": [
      "Accuracy: 0.5835\n"
     ]
    }
   ],
   "source": [
    "# Model Accuracy\n",
    "print(\"Accuracy:\",round(accuracy_score(y_test, predictions),4))"
   ]
  },
  {
   "cell_type": "code",
   "execution_count": 222,
   "metadata": {},
   "outputs": [
    {
     "name": "stdout",
     "output_type": "stream",
     "text": [
      "Precision Score: 0.2445\n"
     ]
    }
   ],
   "source": [
    "# Precision Score on the test data\n",
    "print(\"Precision Score:\",round(precision_score(y_test, predictions),4))"
   ]
  },
  {
   "cell_type": "code",
   "execution_count": 223,
   "metadata": {},
   "outputs": [
    {
     "name": "stdout",
     "output_type": "stream",
     "text": [
      "F-1 Score: 0.3662\n"
     ]
    }
   ],
   "source": [
    "# Precision Score on the test data\n",
    "print(\"F-1 Score:\",round(f1_score(y_test, predictions),4))"
   ]
  },
  {
   "cell_type": "code",
   "execution_count": 224,
   "metadata": {},
   "outputs": [
    {
     "data": {
      "image/png": "[encoded data removed]",
      "text/plain": [
       "<Figure size 1296x648 with 1 Axes>"
      ]
     },
     "metadata": {
      "needs_background": "light"
     },
     "output_type": "display_data"
    }
   ],
   "source": [
    "plot_feature_importance(classifier.feature_importances_,X_train.columns,'XGBoost')"
   ]
  },
  {
   "cell_type": "markdown",
   "metadata": {},
   "source": []
  },
  {
   "cell_type": "code",
   "execution_count": null,
   "metadata": {},
   "outputs": [],
   "source": []
  }
 ],
 "metadata": {
  "kernelspec": {
   "display_name": "Python 3",
   "language": "python",
   "name": "python3"
  },
  "language_info": {
   "codemirror_mode": {
    "name": "ipython",
    "version": 3
   },
   "file_extension": ".py",
   "mimetype": "text/x-python",
   "name": "python",
   "nbconvert_exporter": "python",
   "pygments_lexer": "ipython3",
   "version": "3.8.5"
  }
 },
 "nbformat": 4,
 "nbformat_minor": 4
}
