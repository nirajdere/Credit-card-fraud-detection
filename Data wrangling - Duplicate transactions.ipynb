{
 "cells": [
  {
   "cell_type": "markdown",
   "metadata": {},
   "source": [
    "## Data Pre-processing"
   ]
  },
  {
   "cell_type": "code",
   "execution_count": 207,
   "metadata": {},
   "outputs": [],
   "source": [
    "import pandas as pd\n",
    "import numpy as np\n",
    "import matplotlib.pyplot as plt\n",
    "import seaborn as sns\n",
    "from datetime import timedelta"
   ]
  },
  {
   "cell_type": "code",
   "execution_count": 66,
   "metadata": {},
   "outputs": [],
   "source": [
    "df = pd.read_json('transactions.json',lines=True,orient='records')"
   ]
  },
  {
   "cell_type": "code",
   "execution_count": 67,
   "metadata": {},
   "outputs": [],
   "source": [
    "# Replacing null values with NaN\n",
    "df = df.replace(r'^\\s*$', np.nan, regex=True)"
   ]
  },
  {
   "cell_type": "code",
   "execution_count": 68,
   "metadata": {},
   "outputs": [],
   "source": [
    "# Dropping with features with zero entries\n",
    "df.drop(['echoBuffer','merchantCity','merchantState','merchantZip','posOnPremises','recurringAuthInd'],\n",
    "                  axis=1,inplace=True)"
   ]
  },
  {
   "cell_type": "code",
   "execution_count": 69,
   "metadata": {},
   "outputs": [],
   "source": [
    "# Creating Date and Time Column\n",
    "df['Date']=df['transactionDateTime'].apply(lambda x: x.split('T')[0])\n",
    "df['Time']=df['transactionDateTime'].apply(lambda x: x.split('T')[1])"
   ]
  },
  {
   "cell_type": "code",
   "execution_count": 70,
   "metadata": {},
   "outputs": [],
   "source": [
    "def concat(x):\n",
    "    y=str('T') + str(x)\n",
    "    return y\n",
    "df.reset_index(drop=False,inplace=True)\n",
    "df['transactionKey']=df['index'].apply(lambda x: concat(x))\n",
    "df.drop(['index'],axis=1,inplace=True)"
   ]
  },
  {
   "cell_type": "code",
   "execution_count": 71,
   "metadata": {},
   "outputs": [
    {
     "data": {
      "text/html": [
       "<div>\n",
       "<style scoped>\n",
       "    .dataframe tbody tr th:only-of-type {\n",
       "        vertical-align: middle;\n",
       "    }\n",
       "\n",
       "    .dataframe tbody tr th {\n",
       "        vertical-align: top;\n",
       "    }\n",
       "\n",
       "    .dataframe thead th {\n",
       "        text-align: right;\n",
       "    }\n",
       "</style>\n",
       "<table border=\"1\" class=\"dataframe\">\n",
       "  <thead>\n",
       "    <tr style=\"text-align: right;\">\n",
       "      <th></th>\n",
       "      <th>accountNumber</th>\n",
       "      <th>customerId</th>\n",
       "      <th>creditLimit</th>\n",
       "      <th>availableMoney</th>\n",
       "      <th>transactionDateTime</th>\n",
       "      <th>transactionAmount</th>\n",
       "      <th>merchantName</th>\n",
       "      <th>acqCountry</th>\n",
       "      <th>merchantCountryCode</th>\n",
       "      <th>posEntryMode</th>\n",
       "      <th>...</th>\n",
       "      <th>enteredCVV</th>\n",
       "      <th>cardLast4Digits</th>\n",
       "      <th>transactionType</th>\n",
       "      <th>currentBalance</th>\n",
       "      <th>cardPresent</th>\n",
       "      <th>expirationDateKeyInMatch</th>\n",
       "      <th>isFraud</th>\n",
       "      <th>Date</th>\n",
       "      <th>Time</th>\n",
       "      <th>transactionKey</th>\n",
       "    </tr>\n",
       "  </thead>\n",
       "  <tbody>\n",
       "    <tr>\n",
       "      <th>0</th>\n",
       "      <td>737265056</td>\n",
       "      <td>737265056</td>\n",
       "      <td>5000</td>\n",
       "      <td>5000.0</td>\n",
       "      <td>2016-08-13T14:27:32</td>\n",
       "      <td>98.55</td>\n",
       "      <td>Uber</td>\n",
       "      <td>US</td>\n",
       "      <td>US</td>\n",
       "      <td>02</td>\n",
       "      <td>...</td>\n",
       "      <td>414</td>\n",
       "      <td>1803</td>\n",
       "      <td>PURCHASE</td>\n",
       "      <td>0.0</td>\n",
       "      <td>False</td>\n",
       "      <td>False</td>\n",
       "      <td>False</td>\n",
       "      <td>2016-08-13</td>\n",
       "      <td>14:27:32</td>\n",
       "      <td>T0</td>\n",
       "    </tr>\n",
       "    <tr>\n",
       "      <th>1</th>\n",
       "      <td>737265056</td>\n",
       "      <td>737265056</td>\n",
       "      <td>5000</td>\n",
       "      <td>5000.0</td>\n",
       "      <td>2016-10-11T05:05:54</td>\n",
       "      <td>74.51</td>\n",
       "      <td>AMC #191138</td>\n",
       "      <td>US</td>\n",
       "      <td>US</td>\n",
       "      <td>09</td>\n",
       "      <td>...</td>\n",
       "      <td>486</td>\n",
       "      <td>767</td>\n",
       "      <td>PURCHASE</td>\n",
       "      <td>0.0</td>\n",
       "      <td>True</td>\n",
       "      <td>False</td>\n",
       "      <td>False</td>\n",
       "      <td>2016-10-11</td>\n",
       "      <td>05:05:54</td>\n",
       "      <td>T1</td>\n",
       "    </tr>\n",
       "    <tr>\n",
       "      <th>2</th>\n",
       "      <td>737265056</td>\n",
       "      <td>737265056</td>\n",
       "      <td>5000</td>\n",
       "      <td>5000.0</td>\n",
       "      <td>2016-11-08T09:18:39</td>\n",
       "      <td>7.47</td>\n",
       "      <td>Play Store</td>\n",
       "      <td>US</td>\n",
       "      <td>US</td>\n",
       "      <td>09</td>\n",
       "      <td>...</td>\n",
       "      <td>486</td>\n",
       "      <td>767</td>\n",
       "      <td>PURCHASE</td>\n",
       "      <td>0.0</td>\n",
       "      <td>False</td>\n",
       "      <td>False</td>\n",
       "      <td>False</td>\n",
       "      <td>2016-11-08</td>\n",
       "      <td>09:18:39</td>\n",
       "      <td>T2</td>\n",
       "    </tr>\n",
       "    <tr>\n",
       "      <th>3</th>\n",
       "      <td>737265056</td>\n",
       "      <td>737265056</td>\n",
       "      <td>5000</td>\n",
       "      <td>5000.0</td>\n",
       "      <td>2016-12-10T02:14:50</td>\n",
       "      <td>7.47</td>\n",
       "      <td>Play Store</td>\n",
       "      <td>US</td>\n",
       "      <td>US</td>\n",
       "      <td>09</td>\n",
       "      <td>...</td>\n",
       "      <td>486</td>\n",
       "      <td>767</td>\n",
       "      <td>PURCHASE</td>\n",
       "      <td>0.0</td>\n",
       "      <td>False</td>\n",
       "      <td>False</td>\n",
       "      <td>False</td>\n",
       "      <td>2016-12-10</td>\n",
       "      <td>02:14:50</td>\n",
       "      <td>T3</td>\n",
       "    </tr>\n",
       "    <tr>\n",
       "      <th>4</th>\n",
       "      <td>830329091</td>\n",
       "      <td>830329091</td>\n",
       "      <td>5000</td>\n",
       "      <td>5000.0</td>\n",
       "      <td>2016-03-24T21:04:46</td>\n",
       "      <td>71.18</td>\n",
       "      <td>Tim Hortons #947751</td>\n",
       "      <td>US</td>\n",
       "      <td>US</td>\n",
       "      <td>02</td>\n",
       "      <td>...</td>\n",
       "      <td>885</td>\n",
       "      <td>3143</td>\n",
       "      <td>PURCHASE</td>\n",
       "      <td>0.0</td>\n",
       "      <td>True</td>\n",
       "      <td>False</td>\n",
       "      <td>False</td>\n",
       "      <td>2016-03-24</td>\n",
       "      <td>21:04:46</td>\n",
       "      <td>T4</td>\n",
       "    </tr>\n",
       "  </tbody>\n",
       "</table>\n",
       "<p>5 rows × 26 columns</p>\n",
       "</div>"
      ],
      "text/plain": [
       "   accountNumber  customerId  creditLimit  availableMoney  \\\n",
       "0      737265056   737265056         5000          5000.0   \n",
       "1      737265056   737265056         5000          5000.0   \n",
       "2      737265056   737265056         5000          5000.0   \n",
       "3      737265056   737265056         5000          5000.0   \n",
       "4      830329091   830329091         5000          5000.0   \n",
       "\n",
       "   transactionDateTime  transactionAmount         merchantName acqCountry  \\\n",
       "0  2016-08-13T14:27:32              98.55                 Uber         US   \n",
       "1  2016-10-11T05:05:54              74.51          AMC #191138         US   \n",
       "2  2016-11-08T09:18:39               7.47           Play Store         US   \n",
       "3  2016-12-10T02:14:50               7.47           Play Store         US   \n",
       "4  2016-03-24T21:04:46              71.18  Tim Hortons #947751         US   \n",
       "\n",
       "  merchantCountryCode posEntryMode  ... enteredCVV cardLast4Digits  \\\n",
       "0                  US           02  ...        414            1803   \n",
       "1                  US           09  ...        486             767   \n",
       "2                  US           09  ...        486             767   \n",
       "3                  US           09  ...        486             767   \n",
       "4                  US           02  ...        885            3143   \n",
       "\n",
       "  transactionType currentBalance cardPresent  expirationDateKeyInMatch  \\\n",
       "0        PURCHASE            0.0       False                     False   \n",
       "1        PURCHASE            0.0        True                     False   \n",
       "2        PURCHASE            0.0       False                     False   \n",
       "3        PURCHASE            0.0       False                     False   \n",
       "4        PURCHASE            0.0        True                     False   \n",
       "\n",
       "   isFraud        Date      Time  transactionKey  \n",
       "0    False  2016-08-13  14:27:32              T0  \n",
       "1    False  2016-10-11  05:05:54              T1  \n",
       "2    False  2016-11-08  09:18:39              T2  \n",
       "3    False  2016-12-10  02:14:50              T3  \n",
       "4    False  2016-03-24  21:04:46              T4  \n",
       "\n",
       "[5 rows x 26 columns]"
      ]
     },
     "execution_count": 71,
     "metadata": {},
     "output_type": "execute_result"
    }
   ],
   "source": [
    "df.head()"
   ]
  },
  {
   "cell_type": "markdown",
   "metadata": {},
   "source": [
    "## Identifying Reversed transactions"
   ]
  },
  {
   "cell_type": "code",
   "execution_count": 76,
   "metadata": {},
   "outputs": [
    {
     "data": {
      "text/plain": [
       "698"
      ]
     },
     "execution_count": 76,
     "metadata": {},
     "output_type": "execute_result"
    }
   ],
   "source": [
    "df['transactionType'].isnull().sum()"
   ]
  },
  {
   "cell_type": "code",
   "execution_count": 77,
   "metadata": {},
   "outputs": [],
   "source": [
    "#Replacing missing values in transactionType as 'PURCHASE'\n",
    "df['transactionType']=df['transactionType'].fillna(value='PURCHASE')"
   ]
  },
  {
   "cell_type": "code",
   "execution_count": 78,
   "metadata": {},
   "outputs": [],
   "source": [
    "# Creating Timestamp column\n",
    "df.Date=pd.to_datetime(df.Date)\n",
    "df['Timestamp']=pd.to_datetime(df.Date.astype(str)+' '+df.Time.astype(str))"
   ]
  },
  {
   "cell_type": "code",
   "execution_count": 98,
   "metadata": {},
   "outputs": [],
   "source": [
    "# Sorting data in ascending order with respect to customerId, merchantName, Timestamp\n",
    "data=df[['customerId','merchantName','transactionAmount','transactionType','transactionKey','Timestamp']]\n",
    "data=data.sort_values(by=['customerId','merchantName','Timestamp'],ascending=True)"
   ]
  },
  {
   "cell_type": "code",
   "execution_count": 99,
   "metadata": {},
   "outputs": [
    {
     "data": {
      "text/html": [
       "<div>\n",
       "<style scoped>\n",
       "    .dataframe tbody tr th:only-of-type {\n",
       "        vertical-align: middle;\n",
       "    }\n",
       "\n",
       "    .dataframe tbody tr th {\n",
       "        vertical-align: top;\n",
       "    }\n",
       "\n",
       "    .dataframe thead th {\n",
       "        text-align: right;\n",
       "    }\n",
       "</style>\n",
       "<table border=\"1\" class=\"dataframe\">\n",
       "  <thead>\n",
       "    <tr style=\"text-align: right;\">\n",
       "      <th></th>\n",
       "      <th>customerId</th>\n",
       "      <th>merchantName</th>\n",
       "      <th>transactionAmount</th>\n",
       "      <th>transactionType</th>\n",
       "      <th>transactionKey</th>\n",
       "      <th>Timestamp</th>\n",
       "    </tr>\n",
       "  </thead>\n",
       "  <tbody>\n",
       "    <tr>\n",
       "      <th>541917</th>\n",
       "      <td>100088067</td>\n",
       "      <td>1st BBQ</td>\n",
       "      <td>200.12</td>\n",
       "      <td>PURCHASE</td>\n",
       "      <td>T541917</td>\n",
       "      <td>2016-04-08 19:56:36</td>\n",
       "    </tr>\n",
       "    <tr>\n",
       "      <th>541962</th>\n",
       "      <td>100088067</td>\n",
       "      <td>1st Pub</td>\n",
       "      <td>95.11</td>\n",
       "      <td>PURCHASE</td>\n",
       "      <td>T541962</td>\n",
       "      <td>2016-11-09 07:26:06</td>\n",
       "    </tr>\n",
       "    <tr>\n",
       "      <th>541920</th>\n",
       "      <td>100088067</td>\n",
       "      <td>1st Sandwitch Bar #758805</td>\n",
       "      <td>5.26</td>\n",
       "      <td>PURCHASE</td>\n",
       "      <td>T541920</td>\n",
       "      <td>2016-05-06 02:54:01</td>\n",
       "    </tr>\n",
       "    <tr>\n",
       "      <th>541904</th>\n",
       "      <td>100088067</td>\n",
       "      <td>34th BBQ #412895</td>\n",
       "      <td>141.60</td>\n",
       "      <td>PURCHASE</td>\n",
       "      <td>T541904</td>\n",
       "      <td>2016-02-03 04:48:54</td>\n",
       "    </tr>\n",
       "    <tr>\n",
       "      <th>541925</th>\n",
       "      <td>100088067</td>\n",
       "      <td>AMC #191138</td>\n",
       "      <td>304.15</td>\n",
       "      <td>PURCHASE</td>\n",
       "      <td>T541925</td>\n",
       "      <td>2016-06-03 18:50:55</td>\n",
       "    </tr>\n",
       "  </tbody>\n",
       "</table>\n",
       "</div>"
      ],
      "text/plain": [
       "        customerId               merchantName  transactionAmount  \\\n",
       "541917   100088067                    1st BBQ             200.12   \n",
       "541962   100088067                    1st Pub              95.11   \n",
       "541920   100088067  1st Sandwitch Bar #758805               5.26   \n",
       "541904   100088067           34th BBQ #412895             141.60   \n",
       "541925   100088067                AMC #191138             304.15   \n",
       "\n",
       "       transactionType transactionKey           Timestamp  \n",
       "541917        PURCHASE        T541917 2016-04-08 19:56:36  \n",
       "541962        PURCHASE        T541962 2016-11-09 07:26:06  \n",
       "541920        PURCHASE        T541920 2016-05-06 02:54:01  \n",
       "541904        PURCHASE        T541904 2016-02-03 04:48:54  \n",
       "541925        PURCHASE        T541925 2016-06-03 18:50:55  "
      ]
     },
     "execution_count": 99,
     "metadata": {},
     "output_type": "execute_result"
    }
   ],
   "source": [
    "data.head()"
   ]
  },
  {
   "cell_type": "code",
   "execution_count": 100,
   "metadata": {},
   "outputs": [],
   "source": [
    "# Removing transactions with ADDRESS_VERIFICATION type since, there transaction amount is $0\n",
    "data=data.reset_index(drop=True)\n",
    "data=data[-(data.transactionType=='ADDRESS_VERIFICATION')]\n",
    "data=data.reset_index(drop=True)"
   ]
  },
  {
   "cell_type": "markdown",
   "metadata": {},
   "source": [
    "#### Considering the purchase and reversal transaction are consecutive"
   ]
  },
  {
   "cell_type": "code",
   "execution_count": 107,
   "metadata": {},
   "outputs": [
    {
     "data": {
      "text/html": [
       "<div>\n",
       "<style scoped>\n",
       "    .dataframe tbody tr th:only-of-type {\n",
       "        vertical-align: middle;\n",
       "    }\n",
       "\n",
       "    .dataframe tbody tr th {\n",
       "        vertical-align: top;\n",
       "    }\n",
       "\n",
       "    .dataframe thead th {\n",
       "        text-align: right;\n",
       "    }\n",
       "</style>\n",
       "<table border=\"1\" class=\"dataframe\">\n",
       "  <thead>\n",
       "    <tr style=\"text-align: right;\">\n",
       "      <th></th>\n",
       "      <th>customerId</th>\n",
       "      <th>merchantName</th>\n",
       "      <th>transactionAmount</th>\n",
       "      <th>transactionType</th>\n",
       "      <th>transactionKey</th>\n",
       "      <th>Timestamp</th>\n",
       "    </tr>\n",
       "  </thead>\n",
       "  <tbody>\n",
       "    <tr>\n",
       "      <th>13</th>\n",
       "      <td>100088067</td>\n",
       "      <td>AMC #79863</td>\n",
       "      <td>22.32</td>\n",
       "      <td>REVERSAL</td>\n",
       "      <td>T541964</td>\n",
       "      <td>2016-11-20 08:00:04</td>\n",
       "    </tr>\n",
       "    <tr>\n",
       "      <th>124</th>\n",
       "      <td>100328049</td>\n",
       "      <td>Lyft</td>\n",
       "      <td>43.74</td>\n",
       "      <td>REVERSAL</td>\n",
       "      <td>T87920</td>\n",
       "      <td>2016-01-15 20:36:18</td>\n",
       "    </tr>\n",
       "    <tr>\n",
       "      <th>140</th>\n",
       "      <td>100328049</td>\n",
       "      <td>McDonalds #423357</td>\n",
       "      <td>284.97</td>\n",
       "      <td>REVERSAL</td>\n",
       "      <td>T87936</td>\n",
       "      <td>2016-03-26 17:35:09</td>\n",
       "    </tr>\n",
       "    <tr>\n",
       "      <th>263</th>\n",
       "      <td>100737756</td>\n",
       "      <td>34th BBQ #436606</td>\n",
       "      <td>93.67</td>\n",
       "      <td>REVERSAL</td>\n",
       "      <td>T151499</td>\n",
       "      <td>2016-06-06 22:56:52</td>\n",
       "    </tr>\n",
       "    <tr>\n",
       "      <th>278</th>\n",
       "      <td>100737756</td>\n",
       "      <td>Best Bistro #262998</td>\n",
       "      <td>501.29</td>\n",
       "      <td>REVERSAL</td>\n",
       "      <td>T151541</td>\n",
       "      <td>2016-08-24 20:21:19</td>\n",
       "    </tr>\n",
       "  </tbody>\n",
       "</table>\n",
       "</div>"
      ],
      "text/plain": [
       "     customerId         merchantName  transactionAmount transactionType  \\\n",
       "13    100088067           AMC #79863              22.32        REVERSAL   \n",
       "124   100328049                 Lyft              43.74        REVERSAL   \n",
       "140   100328049    McDonalds #423357             284.97        REVERSAL   \n",
       "263   100737756     34th BBQ #436606              93.67        REVERSAL   \n",
       "278   100737756  Best Bistro #262998             501.29        REVERSAL   \n",
       "\n",
       "    transactionKey           Timestamp  \n",
       "13         T541964 2016-11-20 08:00:04  \n",
       "124         T87920 2016-01-15 20:36:18  \n",
       "140         T87936 2016-03-26 17:35:09  \n",
       "263        T151499 2016-06-06 22:56:52  \n",
       "278        T151541 2016-08-24 20:21:19  "
      ]
     },
     "execution_count": 107,
     "metadata": {},
     "output_type": "execute_result"
    }
   ],
   "source": [
    "reverse = data.loc[data['transactionType']=='REVERSAL']\n",
    "reverse.head()"
   ]
  },
  {
   "cell_type": "code",
   "execution_count": 110,
   "metadata": {},
   "outputs": [],
   "source": [
    "purchase_index = reverse.index.values.astype(int)-1"
   ]
  },
  {
   "cell_type": "code",
   "execution_count": 113,
   "metadata": {},
   "outputs": [
    {
     "data": {
      "text/html": [
       "<div>\n",
       "<style scoped>\n",
       "    .dataframe tbody tr th:only-of-type {\n",
       "        vertical-align: middle;\n",
       "    }\n",
       "\n",
       "    .dataframe tbody tr th {\n",
       "        vertical-align: top;\n",
       "    }\n",
       "\n",
       "    .dataframe thead th {\n",
       "        text-align: right;\n",
       "    }\n",
       "</style>\n",
       "<table border=\"1\" class=\"dataframe\">\n",
       "  <thead>\n",
       "    <tr style=\"text-align: right;\">\n",
       "      <th></th>\n",
       "      <th>customerId</th>\n",
       "      <th>merchantName</th>\n",
       "      <th>transactionAmount</th>\n",
       "      <th>transactionType</th>\n",
       "      <th>transactionKey</th>\n",
       "      <th>Timestamp</th>\n",
       "    </tr>\n",
       "  </thead>\n",
       "  <tbody>\n",
       "    <tr>\n",
       "      <th>12</th>\n",
       "      <td>100088067</td>\n",
       "      <td>AMC #79863</td>\n",
       "      <td>22.32</td>\n",
       "      <td>PURCHASE</td>\n",
       "      <td>T541963</td>\n",
       "      <td>2016-11-20 07:57:05</td>\n",
       "    </tr>\n",
       "    <tr>\n",
       "      <th>123</th>\n",
       "      <td>100328049</td>\n",
       "      <td>Lyft</td>\n",
       "      <td>43.74</td>\n",
       "      <td>PURCHASE</td>\n",
       "      <td>T87919</td>\n",
       "      <td>2016-01-15 20:34:35</td>\n",
       "    </tr>\n",
       "    <tr>\n",
       "      <th>139</th>\n",
       "      <td>100328049</td>\n",
       "      <td>McDonalds #423357</td>\n",
       "      <td>284.97</td>\n",
       "      <td>PURCHASE</td>\n",
       "      <td>T87935</td>\n",
       "      <td>2016-03-24 22:57:15</td>\n",
       "    </tr>\n",
       "    <tr>\n",
       "      <th>262</th>\n",
       "      <td>100737756</td>\n",
       "      <td>34th BBQ #436606</td>\n",
       "      <td>93.67</td>\n",
       "      <td>PURCHASE</td>\n",
       "      <td>T151496</td>\n",
       "      <td>2016-05-30 00:42:32</td>\n",
       "    </tr>\n",
       "    <tr>\n",
       "      <th>277</th>\n",
       "      <td>100737756</td>\n",
       "      <td>Best Bistro #262998</td>\n",
       "      <td>501.29</td>\n",
       "      <td>PURCHASE</td>\n",
       "      <td>T151534</td>\n",
       "      <td>2016-08-11 09:20:41</td>\n",
       "    </tr>\n",
       "  </tbody>\n",
       "</table>\n",
       "</div>"
      ],
      "text/plain": [
       "     customerId         merchantName  transactionAmount transactionType  \\\n",
       "12    100088067           AMC #79863              22.32        PURCHASE   \n",
       "123   100328049                 Lyft              43.74        PURCHASE   \n",
       "139   100328049    McDonalds #423357             284.97        PURCHASE   \n",
       "262   100737756     34th BBQ #436606              93.67        PURCHASE   \n",
       "277   100737756  Best Bistro #262998             501.29        PURCHASE   \n",
       "\n",
       "    transactionKey           Timestamp  \n",
       "12         T541963 2016-11-20 07:57:05  \n",
       "123         T87919 2016-01-15 20:34:35  \n",
       "139         T87935 2016-03-24 22:57:15  \n",
       "262        T151496 2016-05-30 00:42:32  \n",
       "277        T151534 2016-08-11 09:20:41  "
      ]
     },
     "execution_count": 113,
     "metadata": {},
     "output_type": "execute_result"
    }
   ],
   "source": [
    "purchase = data.iloc[purchase_index]\n",
    "purchase.head()"
   ]
  },
  {
   "cell_type": "code",
   "execution_count": 118,
   "metadata": {},
   "outputs": [],
   "source": [
    "purchase_index=pd.DataFrame(purchase_index)\n",
    "purchase_index.columns=['Purchase_Index']"
   ]
  },
  {
   "cell_type": "code",
   "execution_count": 115,
   "metadata": {},
   "outputs": [],
   "source": [
    "reverse_index=pd.DataFrame(reverse_index)\n",
    "reverse_index.columns=['Reverse_Index']"
   ]
  },
  {
   "cell_type": "code",
   "execution_count": 116,
   "metadata": {},
   "outputs": [],
   "source": [
    "purchase_amount=pd.DataFrame(purchase['transactionAmount'].values)\n",
    "purchase_amount.columns=['Purchase_Amount']"
   ]
  },
  {
   "cell_type": "code",
   "execution_count": 117,
   "metadata": {},
   "outputs": [],
   "source": [
    "reverse_amount=pd.DataFrame(reverse['transactionAmount'].values)\n",
    "reverse_amount.columns=['Reversal_Amount']"
   ]
  },
  {
   "cell_type": "code",
   "execution_count": 120,
   "metadata": {},
   "outputs": [
    {
     "data": {
      "text/html": [
       "<div>\n",
       "<style scoped>\n",
       "    .dataframe tbody tr th:only-of-type {\n",
       "        vertical-align: middle;\n",
       "    }\n",
       "\n",
       "    .dataframe tbody tr th {\n",
       "        vertical-align: top;\n",
       "    }\n",
       "\n",
       "    .dataframe thead th {\n",
       "        text-align: right;\n",
       "    }\n",
       "</style>\n",
       "<table border=\"1\" class=\"dataframe\">\n",
       "  <thead>\n",
       "    <tr style=\"text-align: right;\">\n",
       "      <th></th>\n",
       "      <th>Purchase_Index</th>\n",
       "      <th>Reverse_Index</th>\n",
       "      <th>Purchase_Amount</th>\n",
       "      <th>Reversal_Amount</th>\n",
       "    </tr>\n",
       "  </thead>\n",
       "  <tbody>\n",
       "    <tr>\n",
       "      <th>0</th>\n",
       "      <td>12</td>\n",
       "      <td>13</td>\n",
       "      <td>22.32</td>\n",
       "      <td>22.32</td>\n",
       "    </tr>\n",
       "    <tr>\n",
       "      <th>1</th>\n",
       "      <td>123</td>\n",
       "      <td>124</td>\n",
       "      <td>43.74</td>\n",
       "      <td>43.74</td>\n",
       "    </tr>\n",
       "    <tr>\n",
       "      <th>2</th>\n",
       "      <td>139</td>\n",
       "      <td>140</td>\n",
       "      <td>284.97</td>\n",
       "      <td>284.97</td>\n",
       "    </tr>\n",
       "    <tr>\n",
       "      <th>3</th>\n",
       "      <td>262</td>\n",
       "      <td>263</td>\n",
       "      <td>93.67</td>\n",
       "      <td>93.67</td>\n",
       "    </tr>\n",
       "    <tr>\n",
       "      <th>4</th>\n",
       "      <td>277</td>\n",
       "      <td>278</td>\n",
       "      <td>501.29</td>\n",
       "      <td>501.29</td>\n",
       "    </tr>\n",
       "  </tbody>\n",
       "</table>\n",
       "</div>"
      ],
      "text/plain": [
       "   Purchase_Index  Reverse_Index  Purchase_Amount  Reversal_Amount\n",
       "0              12             13            22.32            22.32\n",
       "1             123            124            43.74            43.74\n",
       "2             139            140           284.97           284.97\n",
       "3             262            263            93.67            93.67\n",
       "4             277            278           501.29           501.29"
      ]
     },
     "execution_count": 120,
     "metadata": {},
     "output_type": "execute_result"
    }
   ],
   "source": [
    "# Creating DataFrame to check reversal transactions\n",
    "chk=pd.concat([purchase_index,reverse_index,purchase_amount,reverse_amount],axis=1) \n",
    "chk.head()"
   ]
  },
  {
   "cell_type": "code",
   "execution_count": 122,
   "metadata": {},
   "outputs": [],
   "source": [
    "chk['new'] = np.where((chk['Purchase_Amount'] == chk['Reversal_Amount']), True, False)"
   ]
  },
  {
   "cell_type": "code",
   "execution_count": 124,
   "metadata": {},
   "outputs": [
    {
     "data": {
      "text/html": [
       "<div>\n",
       "<style scoped>\n",
       "    .dataframe tbody tr th:only-of-type {\n",
       "        vertical-align: middle;\n",
       "    }\n",
       "\n",
       "    .dataframe tbody tr th {\n",
       "        vertical-align: top;\n",
       "    }\n",
       "\n",
       "    .dataframe thead th {\n",
       "        text-align: right;\n",
       "    }\n",
       "</style>\n",
       "<table border=\"1\" class=\"dataframe\">\n",
       "  <thead>\n",
       "    <tr style=\"text-align: right;\">\n",
       "      <th></th>\n",
       "      <th>Purchase_Index</th>\n",
       "      <th>Reverse_Index</th>\n",
       "      <th>Purchase_Amount</th>\n",
       "      <th>Reversal_Amount</th>\n",
       "      <th>new</th>\n",
       "    </tr>\n",
       "  </thead>\n",
       "  <tbody>\n",
       "    <tr>\n",
       "      <th>0</th>\n",
       "      <td>12</td>\n",
       "      <td>13</td>\n",
       "      <td>22.32</td>\n",
       "      <td>22.32</td>\n",
       "      <td>True</td>\n",
       "    </tr>\n",
       "    <tr>\n",
       "      <th>1</th>\n",
       "      <td>123</td>\n",
       "      <td>124</td>\n",
       "      <td>43.74</td>\n",
       "      <td>43.74</td>\n",
       "      <td>True</td>\n",
       "    </tr>\n",
       "    <tr>\n",
       "      <th>2</th>\n",
       "      <td>139</td>\n",
       "      <td>140</td>\n",
       "      <td>284.97</td>\n",
       "      <td>284.97</td>\n",
       "      <td>True</td>\n",
       "    </tr>\n",
       "    <tr>\n",
       "      <th>3</th>\n",
       "      <td>262</td>\n",
       "      <td>263</td>\n",
       "      <td>93.67</td>\n",
       "      <td>93.67</td>\n",
       "      <td>True</td>\n",
       "    </tr>\n",
       "    <tr>\n",
       "      <th>4</th>\n",
       "      <td>277</td>\n",
       "      <td>278</td>\n",
       "      <td>501.29</td>\n",
       "      <td>501.29</td>\n",
       "      <td>True</td>\n",
       "    </tr>\n",
       "  </tbody>\n",
       "</table>\n",
       "</div>"
      ],
      "text/plain": [
       "   Purchase_Index  Reverse_Index  Purchase_Amount  Reversal_Amount   new\n",
       "0              12             13            22.32            22.32  True\n",
       "1             123            124            43.74            43.74  True\n",
       "2             139            140           284.97           284.97  True\n",
       "3             262            263            93.67            93.67  True\n",
       "4             277            278           501.29           501.29  True"
      ]
     },
     "execution_count": 124,
     "metadata": {},
     "output_type": "execute_result"
    }
   ],
   "source": [
    "chk.head()"
   ]
  },
  {
   "cell_type": "code",
   "execution_count": 125,
   "metadata": {},
   "outputs": [
    {
     "data": {
      "text/plain": [
       "True     12665\n",
       "False     7638\n",
       "Name: new, dtype: int64"
      ]
     },
     "execution_count": 125,
     "metadata": {},
     "output_type": "execute_result"
    }
   ],
   "source": [
    "chk.new.value_counts()"
   ]
  },
  {
   "cell_type": "markdown",
   "metadata": {},
   "source": [
    "#### By checking the consecutive transactions, I was able to track 12665 reversal transactions."
   ]
  },
  {
   "cell_type": "code",
   "execution_count": 127,
   "metadata": {},
   "outputs": [],
   "source": [
    "tracked = chk.loc[chk['new']==True]"
   ]
  },
  {
   "cell_type": "markdown",
   "metadata": {},
   "source": [
    "#### Creating DataFrame for all tracked reversal transactions"
   ]
  },
  {
   "cell_type": "code",
   "execution_count": 135,
   "metadata": {},
   "outputs": [],
   "source": [
    "track_index=np.concatenate((tracked['Purchase_Index'], tracked['Reverse_Index']))\n",
    "track_reverse=data.iloc[track_index]"
   ]
  },
  {
   "cell_type": "code",
   "execution_count": 137,
   "metadata": {},
   "outputs": [
    {
     "data": {
      "text/html": [
       "<div>\n",
       "<style scoped>\n",
       "    .dataframe tbody tr th:only-of-type {\n",
       "        vertical-align: middle;\n",
       "    }\n",
       "\n",
       "    .dataframe tbody tr th {\n",
       "        vertical-align: top;\n",
       "    }\n",
       "\n",
       "    .dataframe thead th {\n",
       "        text-align: right;\n",
       "    }\n",
       "</style>\n",
       "<table border=\"1\" class=\"dataframe\">\n",
       "  <thead>\n",
       "    <tr style=\"text-align: right;\">\n",
       "      <th></th>\n",
       "      <th>customerId</th>\n",
       "      <th>merchantName</th>\n",
       "      <th>transactionAmount</th>\n",
       "      <th>transactionType</th>\n",
       "      <th>transactionKey</th>\n",
       "      <th>Timestamp</th>\n",
       "    </tr>\n",
       "  </thead>\n",
       "  <tbody>\n",
       "    <tr>\n",
       "      <th>12</th>\n",
       "      <td>100088067</td>\n",
       "      <td>AMC #79863</td>\n",
       "      <td>22.32</td>\n",
       "      <td>PURCHASE</td>\n",
       "      <td>T541963</td>\n",
       "      <td>2016-11-20 07:57:05</td>\n",
       "    </tr>\n",
       "    <tr>\n",
       "      <th>13</th>\n",
       "      <td>100088067</td>\n",
       "      <td>AMC #79863</td>\n",
       "      <td>22.32</td>\n",
       "      <td>REVERSAL</td>\n",
       "      <td>T541964</td>\n",
       "      <td>2016-11-20 08:00:04</td>\n",
       "    </tr>\n",
       "    <tr>\n",
       "      <th>123</th>\n",
       "      <td>100328049</td>\n",
       "      <td>Lyft</td>\n",
       "      <td>43.74</td>\n",
       "      <td>PURCHASE</td>\n",
       "      <td>T87919</td>\n",
       "      <td>2016-01-15 20:34:35</td>\n",
       "    </tr>\n",
       "    <tr>\n",
       "      <th>124</th>\n",
       "      <td>100328049</td>\n",
       "      <td>Lyft</td>\n",
       "      <td>43.74</td>\n",
       "      <td>REVERSAL</td>\n",
       "      <td>T87920</td>\n",
       "      <td>2016-01-15 20:36:18</td>\n",
       "    </tr>\n",
       "    <tr>\n",
       "      <th>139</th>\n",
       "      <td>100328049</td>\n",
       "      <td>McDonalds #423357</td>\n",
       "      <td>284.97</td>\n",
       "      <td>PURCHASE</td>\n",
       "      <td>T87935</td>\n",
       "      <td>2016-03-24 22:57:15</td>\n",
       "    </tr>\n",
       "  </tbody>\n",
       "</table>\n",
       "</div>"
      ],
      "text/plain": [
       "     customerId       merchantName  transactionAmount transactionType  \\\n",
       "12    100088067         AMC #79863              22.32        PURCHASE   \n",
       "13    100088067         AMC #79863              22.32        REVERSAL   \n",
       "123   100328049               Lyft              43.74        PURCHASE   \n",
       "124   100328049               Lyft              43.74        REVERSAL   \n",
       "139   100328049  McDonalds #423357             284.97        PURCHASE   \n",
       "\n",
       "    transactionKey           Timestamp  \n",
       "12         T541963 2016-11-20 07:57:05  \n",
       "13         T541964 2016-11-20 08:00:04  \n",
       "123         T87919 2016-01-15 20:34:35  \n",
       "124         T87920 2016-01-15 20:36:18  \n",
       "139         T87935 2016-03-24 22:57:15  "
      ]
     },
     "execution_count": 137,
     "metadata": {},
     "output_type": "execute_result"
    }
   ],
   "source": [
    "track_reverse=track_reverse.sort_values(by=['customerId','merchantName','Timestamp'],ascending=True)\n",
    "track_reverse.head()"
   ]
  },
  {
   "cell_type": "code",
   "execution_count": 140,
   "metadata": {},
   "outputs": [
    {
     "data": {
      "text/plain": [
       "REVERSAL    12665\n",
       "PURCHASE    12665\n",
       "Name: transactionType, dtype: int64"
      ]
     },
     "execution_count": 140,
     "metadata": {},
     "output_type": "execute_result"
    }
   ],
   "source": [
    "track_reverse.transactionType.value_counts()"
   ]
  },
  {
   "cell_type": "markdown",
   "metadata": {},
   "source": [
    "#### I was able to track 12665 reverse transactions out of the 20303 transactions"
   ]
  },
  {
   "cell_type": "code",
   "execution_count": 141,
   "metadata": {},
   "outputs": [
    {
     "data": {
      "text/plain": [
       "transactionType\n",
       "PURCHASE    1907433.62\n",
       "REVERSAL    1907433.62\n",
       "Name: transactionAmount, dtype: float64"
      ]
     },
     "execution_count": 141,
     "metadata": {},
     "output_type": "execute_result"
    }
   ],
   "source": [
    "track_reverse.groupby(['transactionType']).sum()['transactionAmount']"
   ]
  },
  {
   "cell_type": "code",
   "execution_count": 143,
   "metadata": {},
   "outputs": [
    {
     "data": {
      "text/plain": [
       "transactionType\n",
       "REVERSAL    2821792.5\n",
       "Name: transactionAmount, dtype: float64"
      ]
     },
     "execution_count": 143,
     "metadata": {},
     "output_type": "execute_result"
    }
   ],
   "source": [
    "reverse.groupby(['transactionType']).sum()['transactionAmount']"
   ]
  },
  {
   "cell_type": "markdown",
   "metadata": {},
   "source": [
    "#### The transaction amount of tracked reversal transactions is  $1907433.62"
   ]
  },
  {
   "cell_type": "markdown",
   "metadata": {},
   "source": [
    "#### The overall transaction amount of reverse transactions is  $2821792.5"
   ]
  },
  {
   "cell_type": "markdown",
   "metadata": {},
   "source": [
    "#### 7638 transactions were not tracked with transaction amount of $914,358.88"
   ]
  },
  {
   "cell_type": "markdown",
   "metadata": {},
   "source": [
    "## Identifying Multi-swipe transactions"
   ]
  },
  {
   "cell_type": "markdown",
   "metadata": {},
   "source": [
    "#### To identify multi-swipes, I am initially sorting the DataFrame in ascending order with respect to cusromerId, merchantName and Timestamp. The sorted data is available from previous. Then, to identify the multi-swipe transaction, I subset data with all the duplicate transactions and then classify the multi-swipe transactions with time difference less than 180 seconds."
   ]
  },
  {
   "cell_type": "code",
   "execution_count": 248,
   "metadata": {},
   "outputs": [],
   "source": [
    "# Removing Reverse transactions\n",
    "mst=data.reset_index(drop=True)\n",
    "mst=mst[-(data.transactionType=='REVERSAL')]\n",
    "mst=mst.reset_index(drop=True)"
   ]
  },
  {
   "cell_type": "code",
   "execution_count": 249,
   "metadata": {},
   "outputs": [
    {
     "data": {
      "text/html": [
       "<div>\n",
       "<style scoped>\n",
       "    .dataframe tbody tr th:only-of-type {\n",
       "        vertical-align: middle;\n",
       "    }\n",
       "\n",
       "    .dataframe tbody tr th {\n",
       "        vertical-align: top;\n",
       "    }\n",
       "\n",
       "    .dataframe thead th {\n",
       "        text-align: right;\n",
       "    }\n",
       "</style>\n",
       "<table border=\"1\" class=\"dataframe\">\n",
       "  <thead>\n",
       "    <tr style=\"text-align: right;\">\n",
       "      <th></th>\n",
       "      <th>customerId</th>\n",
       "      <th>merchantName</th>\n",
       "      <th>transactionAmount</th>\n",
       "      <th>transactionType</th>\n",
       "      <th>transactionKey</th>\n",
       "      <th>Timestamp</th>\n",
       "    </tr>\n",
       "  </thead>\n",
       "  <tbody>\n",
       "    <tr>\n",
       "      <th>0</th>\n",
       "      <td>100088067</td>\n",
       "      <td>1st BBQ</td>\n",
       "      <td>200.12</td>\n",
       "      <td>PURCHASE</td>\n",
       "      <td>T541917</td>\n",
       "      <td>2016-04-08 19:56:36</td>\n",
       "    </tr>\n",
       "    <tr>\n",
       "      <th>1</th>\n",
       "      <td>100088067</td>\n",
       "      <td>1st Pub</td>\n",
       "      <td>95.11</td>\n",
       "      <td>PURCHASE</td>\n",
       "      <td>T541962</td>\n",
       "      <td>2016-11-09 07:26:06</td>\n",
       "    </tr>\n",
       "    <tr>\n",
       "      <th>2</th>\n",
       "      <td>100088067</td>\n",
       "      <td>1st Sandwitch Bar #758805</td>\n",
       "      <td>5.26</td>\n",
       "      <td>PURCHASE</td>\n",
       "      <td>T541920</td>\n",
       "      <td>2016-05-06 02:54:01</td>\n",
       "    </tr>\n",
       "    <tr>\n",
       "      <th>3</th>\n",
       "      <td>100088067</td>\n",
       "      <td>34th BBQ #412895</td>\n",
       "      <td>141.60</td>\n",
       "      <td>PURCHASE</td>\n",
       "      <td>T541904</td>\n",
       "      <td>2016-02-03 04:48:54</td>\n",
       "    </tr>\n",
       "    <tr>\n",
       "      <th>4</th>\n",
       "      <td>100088067</td>\n",
       "      <td>AMC #191138</td>\n",
       "      <td>304.15</td>\n",
       "      <td>PURCHASE</td>\n",
       "      <td>T541925</td>\n",
       "      <td>2016-06-03 18:50:55</td>\n",
       "    </tr>\n",
       "  </tbody>\n",
       "</table>\n",
       "</div>"
      ],
      "text/plain": [
       "   customerId               merchantName  transactionAmount transactionType  \\\n",
       "0   100088067                    1st BBQ             200.12        PURCHASE   \n",
       "1   100088067                    1st Pub              95.11        PURCHASE   \n",
       "2   100088067  1st Sandwitch Bar #758805               5.26        PURCHASE   \n",
       "3   100088067           34th BBQ #412895             141.60        PURCHASE   \n",
       "4   100088067                AMC #191138             304.15        PURCHASE   \n",
       "\n",
       "  transactionKey           Timestamp  \n",
       "0        T541917 2016-04-08 19:56:36  \n",
       "1        T541962 2016-11-09 07:26:06  \n",
       "2        T541920 2016-05-06 02:54:01  \n",
       "3        T541904 2016-02-03 04:48:54  \n",
       "4        T541925 2016-06-03 18:50:55  "
      ]
     },
     "execution_count": 249,
     "metadata": {},
     "output_type": "execute_result"
    }
   ],
   "source": [
    "mst.head()"
   ]
  },
  {
   "cell_type": "code",
   "execution_count": 247,
   "metadata": {},
   "outputs": [],
   "source": [
    "k=mst.loc[:,['customerId','merchantName','transactionAmount','transactionType']]"
   ]
  },
  {
   "cell_type": "code",
   "execution_count": 250,
   "metadata": {},
   "outputs": [
    {
     "data": {
      "text/html": [
       "<div>\n",
       "<style scoped>\n",
       "    .dataframe tbody tr th:only-of-type {\n",
       "        vertical-align: middle;\n",
       "    }\n",
       "\n",
       "    .dataframe tbody tr th {\n",
       "        vertical-align: top;\n",
       "    }\n",
       "\n",
       "    .dataframe thead th {\n",
       "        text-align: right;\n",
       "    }\n",
       "</style>\n",
       "<table border=\"1\" class=\"dataframe\">\n",
       "  <thead>\n",
       "    <tr style=\"text-align: right;\">\n",
       "      <th></th>\n",
       "      <th>customerId</th>\n",
       "      <th>merchantName</th>\n",
       "      <th>transactionAmount</th>\n",
       "      <th>transactionType</th>\n",
       "    </tr>\n",
       "  </thead>\n",
       "  <tbody>\n",
       "    <tr>\n",
       "      <th>0</th>\n",
       "      <td>100088067</td>\n",
       "      <td>1st BBQ</td>\n",
       "      <td>200.12</td>\n",
       "      <td>PURCHASE</td>\n",
       "    </tr>\n",
       "    <tr>\n",
       "      <th>1</th>\n",
       "      <td>100088067</td>\n",
       "      <td>1st Pub</td>\n",
       "      <td>95.11</td>\n",
       "      <td>PURCHASE</td>\n",
       "    </tr>\n",
       "    <tr>\n",
       "      <th>2</th>\n",
       "      <td>100088067</td>\n",
       "      <td>1st Sandwitch Bar #758805</td>\n",
       "      <td>5.26</td>\n",
       "      <td>PURCHASE</td>\n",
       "    </tr>\n",
       "    <tr>\n",
       "      <th>3</th>\n",
       "      <td>100088067</td>\n",
       "      <td>34th BBQ #412895</td>\n",
       "      <td>141.60</td>\n",
       "      <td>PURCHASE</td>\n",
       "    </tr>\n",
       "    <tr>\n",
       "      <th>4</th>\n",
       "      <td>100088067</td>\n",
       "      <td>AMC #191138</td>\n",
       "      <td>304.15</td>\n",
       "      <td>PURCHASE</td>\n",
       "    </tr>\n",
       "  </tbody>\n",
       "</table>\n",
       "</div>"
      ],
      "text/plain": [
       "   customerId               merchantName  transactionAmount transactionType\n",
       "0   100088067                    1st BBQ             200.12        PURCHASE\n",
       "1   100088067                    1st Pub              95.11        PURCHASE\n",
       "2   100088067  1st Sandwitch Bar #758805               5.26        PURCHASE\n",
       "3   100088067           34th BBQ #412895             141.60        PURCHASE\n",
       "4   100088067                AMC #191138             304.15        PURCHASE"
      ]
     },
     "execution_count": 250,
     "metadata": {},
     "output_type": "execute_result"
    }
   ],
   "source": [
    "k.head()"
   ]
  },
  {
   "cell_type": "code",
   "execution_count": 251,
   "metadata": {},
   "outputs": [],
   "source": [
    "# Finding duplicate transactions\n",
    "duplicate = k.duplicated(keep=False)"
   ]
  },
  {
   "cell_type": "code",
   "execution_count": 252,
   "metadata": {},
   "outputs": [],
   "source": [
    "Duplicate=pd.DataFrame(duplicate)\n",
    "Duplicate.columns=['Duplicate']"
   ]
  },
  {
   "cell_type": "code",
   "execution_count": 253,
   "metadata": {},
   "outputs": [
    {
     "data": {
      "text/html": [
       "<div>\n",
       "<style scoped>\n",
       "    .dataframe tbody tr th:only-of-type {\n",
       "        vertical-align: middle;\n",
       "    }\n",
       "\n",
       "    .dataframe tbody tr th {\n",
       "        vertical-align: top;\n",
       "    }\n",
       "\n",
       "    .dataframe thead th {\n",
       "        text-align: right;\n",
       "    }\n",
       "</style>\n",
       "<table border=\"1\" class=\"dataframe\">\n",
       "  <thead>\n",
       "    <tr style=\"text-align: right;\">\n",
       "      <th></th>\n",
       "      <th>customerId</th>\n",
       "      <th>merchantName</th>\n",
       "      <th>transactionAmount</th>\n",
       "      <th>transactionType</th>\n",
       "      <th>transactionKey</th>\n",
       "      <th>Timestamp</th>\n",
       "      <th>Duplicate</th>\n",
       "    </tr>\n",
       "  </thead>\n",
       "  <tbody>\n",
       "    <tr>\n",
       "      <th>0</th>\n",
       "      <td>100088067</td>\n",
       "      <td>1st BBQ</td>\n",
       "      <td>200.12</td>\n",
       "      <td>PURCHASE</td>\n",
       "      <td>T541917</td>\n",
       "      <td>2016-04-08 19:56:36</td>\n",
       "      <td>False</td>\n",
       "    </tr>\n",
       "    <tr>\n",
       "      <th>1</th>\n",
       "      <td>100088067</td>\n",
       "      <td>1st Pub</td>\n",
       "      <td>95.11</td>\n",
       "      <td>PURCHASE</td>\n",
       "      <td>T541962</td>\n",
       "      <td>2016-11-09 07:26:06</td>\n",
       "      <td>False</td>\n",
       "    </tr>\n",
       "    <tr>\n",
       "      <th>2</th>\n",
       "      <td>100088067</td>\n",
       "      <td>1st Sandwitch Bar #758805</td>\n",
       "      <td>5.26</td>\n",
       "      <td>PURCHASE</td>\n",
       "      <td>T541920</td>\n",
       "      <td>2016-05-06 02:54:01</td>\n",
       "      <td>False</td>\n",
       "    </tr>\n",
       "    <tr>\n",
       "      <th>3</th>\n",
       "      <td>100088067</td>\n",
       "      <td>34th BBQ #412895</td>\n",
       "      <td>141.60</td>\n",
       "      <td>PURCHASE</td>\n",
       "      <td>T541904</td>\n",
       "      <td>2016-02-03 04:48:54</td>\n",
       "      <td>False</td>\n",
       "    </tr>\n",
       "    <tr>\n",
       "      <th>4</th>\n",
       "      <td>100088067</td>\n",
       "      <td>AMC #191138</td>\n",
       "      <td>304.15</td>\n",
       "      <td>PURCHASE</td>\n",
       "      <td>T541925</td>\n",
       "      <td>2016-06-03 18:50:55</td>\n",
       "      <td>False</td>\n",
       "    </tr>\n",
       "  </tbody>\n",
       "</table>\n",
       "</div>"
      ],
      "text/plain": [
       "   customerId               merchantName  transactionAmount transactionType  \\\n",
       "0   100088067                    1st BBQ             200.12        PURCHASE   \n",
       "1   100088067                    1st Pub              95.11        PURCHASE   \n",
       "2   100088067  1st Sandwitch Bar #758805               5.26        PURCHASE   \n",
       "3   100088067           34th BBQ #412895             141.60        PURCHASE   \n",
       "4   100088067                AMC #191138             304.15        PURCHASE   \n",
       "\n",
       "  transactionKey           Timestamp  Duplicate  \n",
       "0        T541917 2016-04-08 19:56:36      False  \n",
       "1        T541962 2016-11-09 07:26:06      False  \n",
       "2        T541920 2016-05-06 02:54:01      False  \n",
       "3        T541904 2016-02-03 04:48:54      False  \n",
       "4        T541925 2016-06-03 18:50:55      False  "
      ]
     },
     "execution_count": 253,
     "metadata": {},
     "output_type": "execute_result"
    }
   ],
   "source": [
    "a=pd.concat([mst,Duplicate],axis=1) \n",
    "a.head()"
   ]
  },
  {
   "cell_type": "code",
   "execution_count": 254,
   "metadata": {},
   "outputs": [],
   "source": [
    "# Subsetting the data with duplicate transactions only\n",
    "b = a.loc[a['Duplicate']==True]"
   ]
  },
  {
   "cell_type": "code",
   "execution_count": 255,
   "metadata": {},
   "outputs": [
    {
     "data": {
      "text/html": [
       "<div>\n",
       "<style scoped>\n",
       "    .dataframe tbody tr th:only-of-type {\n",
       "        vertical-align: middle;\n",
       "    }\n",
       "\n",
       "    .dataframe tbody tr th {\n",
       "        vertical-align: top;\n",
       "    }\n",
       "\n",
       "    .dataframe thead th {\n",
       "        text-align: right;\n",
       "    }\n",
       "</style>\n",
       "<table border=\"1\" class=\"dataframe\">\n",
       "  <thead>\n",
       "    <tr style=\"text-align: right;\">\n",
       "      <th></th>\n",
       "      <th>customerId</th>\n",
       "      <th>merchantName</th>\n",
       "      <th>transactionAmount</th>\n",
       "      <th>transactionType</th>\n",
       "      <th>transactionKey</th>\n",
       "      <th>Timestamp</th>\n",
       "      <th>Duplicate</th>\n",
       "    </tr>\n",
       "  </thead>\n",
       "  <tbody>\n",
       "    <tr>\n",
       "      <th>13</th>\n",
       "      <td>100088067</td>\n",
       "      <td>Apple iTunes</td>\n",
       "      <td>3.96</td>\n",
       "      <td>PURCHASE</td>\n",
       "      <td>T541919</td>\n",
       "      <td>2016-05-05 22:47:50</td>\n",
       "      <td>True</td>\n",
       "    </tr>\n",
       "    <tr>\n",
       "      <th>14</th>\n",
       "      <td>100088067</td>\n",
       "      <td>Apple iTunes</td>\n",
       "      <td>3.96</td>\n",
       "      <td>PURCHASE</td>\n",
       "      <td>T541926</td>\n",
       "      <td>2016-06-05 22:10:41</td>\n",
       "      <td>True</td>\n",
       "    </tr>\n",
       "    <tr>\n",
       "      <th>15</th>\n",
       "      <td>100088067</td>\n",
       "      <td>Apple iTunes</td>\n",
       "      <td>3.96</td>\n",
       "      <td>PURCHASE</td>\n",
       "      <td>T541929</td>\n",
       "      <td>2016-07-05 22:22:49</td>\n",
       "      <td>True</td>\n",
       "    </tr>\n",
       "    <tr>\n",
       "      <th>16</th>\n",
       "      <td>100088067</td>\n",
       "      <td>Apple iTunes</td>\n",
       "      <td>3.96</td>\n",
       "      <td>PURCHASE</td>\n",
       "      <td>T541936</td>\n",
       "      <td>2016-08-05 00:55:48</td>\n",
       "      <td>True</td>\n",
       "    </tr>\n",
       "    <tr>\n",
       "      <th>17</th>\n",
       "      <td>100088067</td>\n",
       "      <td>Apple iTunes</td>\n",
       "      <td>3.96</td>\n",
       "      <td>PURCHASE</td>\n",
       "      <td>T541945</td>\n",
       "      <td>2016-09-05 13:14:22</td>\n",
       "      <td>True</td>\n",
       "    </tr>\n",
       "  </tbody>\n",
       "</table>\n",
       "</div>"
      ],
      "text/plain": [
       "    customerId  merchantName  transactionAmount transactionType  \\\n",
       "13   100088067  Apple iTunes               3.96        PURCHASE   \n",
       "14   100088067  Apple iTunes               3.96        PURCHASE   \n",
       "15   100088067  Apple iTunes               3.96        PURCHASE   \n",
       "16   100088067  Apple iTunes               3.96        PURCHASE   \n",
       "17   100088067  Apple iTunes               3.96        PURCHASE   \n",
       "\n",
       "   transactionKey           Timestamp  Duplicate  \n",
       "13        T541919 2016-05-05 22:47:50       True  \n",
       "14        T541926 2016-06-05 22:10:41       True  \n",
       "15        T541929 2016-07-05 22:22:49       True  \n",
       "16        T541936 2016-08-05 00:55:48       True  \n",
       "17        T541945 2016-09-05 13:14:22       True  "
      ]
     },
     "execution_count": 255,
     "metadata": {},
     "output_type": "execute_result"
    }
   ],
   "source": [
    "b.head()"
   ]
  },
  {
   "cell_type": "code",
   "execution_count": 256,
   "metadata": {},
   "outputs": [
    {
     "name": "stderr",
     "output_type": "stream",
     "text": [
      "<ipython-input-256-0cd736aaa625>:2: SettingWithCopyWarning: \n",
      "A value is trying to be set on a copy of a slice from a DataFrame.\n",
      "Try using .loc[row_indexer,col_indexer] = value instead\n",
      "\n",
      "See the caveats in the documentation: https://pandas.pydata.org/pandas-docs/stable/user_guide/indexing.html#returning-a-view-versus-a-copy\n",
      "  b['difference']=b.Timestamp.diff()\n"
     ]
    }
   ],
   "source": [
    "# Calculating time difference between the transactions\n",
    "b['difference']=b.Timestamp.diff()"
   ]
  },
  {
   "cell_type": "code",
   "execution_count": 257,
   "metadata": {},
   "outputs": [
    {
     "data": {
      "text/html": [
       "<div>\n",
       "<style scoped>\n",
       "    .dataframe tbody tr th:only-of-type {\n",
       "        vertical-align: middle;\n",
       "    }\n",
       "\n",
       "    .dataframe tbody tr th {\n",
       "        vertical-align: top;\n",
       "    }\n",
       "\n",
       "    .dataframe thead th {\n",
       "        text-align: right;\n",
       "    }\n",
       "</style>\n",
       "<table border=\"1\" class=\"dataframe\">\n",
       "  <thead>\n",
       "    <tr style=\"text-align: right;\">\n",
       "      <th></th>\n",
       "      <th>customerId</th>\n",
       "      <th>merchantName</th>\n",
       "      <th>transactionAmount</th>\n",
       "      <th>transactionType</th>\n",
       "      <th>transactionKey</th>\n",
       "      <th>Timestamp</th>\n",
       "      <th>Duplicate</th>\n",
       "      <th>difference</th>\n",
       "    </tr>\n",
       "  </thead>\n",
       "  <tbody>\n",
       "    <tr>\n",
       "      <th>13</th>\n",
       "      <td>100088067</td>\n",
       "      <td>Apple iTunes</td>\n",
       "      <td>3.96</td>\n",
       "      <td>PURCHASE</td>\n",
       "      <td>T541919</td>\n",
       "      <td>2016-05-05 22:47:50</td>\n",
       "      <td>True</td>\n",
       "      <td>NaT</td>\n",
       "    </tr>\n",
       "    <tr>\n",
       "      <th>14</th>\n",
       "      <td>100088067</td>\n",
       "      <td>Apple iTunes</td>\n",
       "      <td>3.96</td>\n",
       "      <td>PURCHASE</td>\n",
       "      <td>T541926</td>\n",
       "      <td>2016-06-05 22:10:41</td>\n",
       "      <td>True</td>\n",
       "      <td>30 days 23:22:51</td>\n",
       "    </tr>\n",
       "    <tr>\n",
       "      <th>15</th>\n",
       "      <td>100088067</td>\n",
       "      <td>Apple iTunes</td>\n",
       "      <td>3.96</td>\n",
       "      <td>PURCHASE</td>\n",
       "      <td>T541929</td>\n",
       "      <td>2016-07-05 22:22:49</td>\n",
       "      <td>True</td>\n",
       "      <td>30 days 00:12:08</td>\n",
       "    </tr>\n",
       "    <tr>\n",
       "      <th>16</th>\n",
       "      <td>100088067</td>\n",
       "      <td>Apple iTunes</td>\n",
       "      <td>3.96</td>\n",
       "      <td>PURCHASE</td>\n",
       "      <td>T541936</td>\n",
       "      <td>2016-08-05 00:55:48</td>\n",
       "      <td>True</td>\n",
       "      <td>30 days 02:32:59</td>\n",
       "    </tr>\n",
       "    <tr>\n",
       "      <th>17</th>\n",
       "      <td>100088067</td>\n",
       "      <td>Apple iTunes</td>\n",
       "      <td>3.96</td>\n",
       "      <td>PURCHASE</td>\n",
       "      <td>T541945</td>\n",
       "      <td>2016-09-05 13:14:22</td>\n",
       "      <td>True</td>\n",
       "      <td>31 days 12:18:34</td>\n",
       "    </tr>\n",
       "  </tbody>\n",
       "</table>\n",
       "</div>"
      ],
      "text/plain": [
       "    customerId  merchantName  transactionAmount transactionType  \\\n",
       "13   100088067  Apple iTunes               3.96        PURCHASE   \n",
       "14   100088067  Apple iTunes               3.96        PURCHASE   \n",
       "15   100088067  Apple iTunes               3.96        PURCHASE   \n",
       "16   100088067  Apple iTunes               3.96        PURCHASE   \n",
       "17   100088067  Apple iTunes               3.96        PURCHASE   \n",
       "\n",
       "   transactionKey           Timestamp  Duplicate       difference  \n",
       "13        T541919 2016-05-05 22:47:50       True              NaT  \n",
       "14        T541926 2016-06-05 22:10:41       True 30 days 23:22:51  \n",
       "15        T541929 2016-07-05 22:22:49       True 30 days 00:12:08  \n",
       "16        T541936 2016-08-05 00:55:48       True 30 days 02:32:59  \n",
       "17        T541945 2016-09-05 13:14:22       True 31 days 12:18:34  "
      ]
     },
     "execution_count": 257,
     "metadata": {},
     "output_type": "execute_result"
    }
   ],
   "source": [
    "b.head()"
   ]
  },
  {
   "cell_type": "code",
   "execution_count": 258,
   "metadata": {},
   "outputs": [
    {
     "data": {
      "text/plain": [
       "datetime.timedelta(seconds=180)"
      ]
     },
     "execution_count": 258,
     "metadata": {},
     "output_type": "execute_result"
    }
   ],
   "source": [
    "z = timedelta(0,0)\n",
    "z\n",
    "td = timedelta(0,180)\n",
    "td"
   ]
  },
  {
   "cell_type": "code",
   "execution_count": 259,
   "metadata": {},
   "outputs": [
    {
     "name": "stderr",
     "output_type": "stream",
     "text": [
      "<ipython-input-259-4e071ba3d68d>:2: SettingWithCopyWarning: \n",
      "A value is trying to be set on a copy of a slice from a DataFrame.\n",
      "Try using .loc[row_indexer,col_indexer] = value instead\n",
      "\n",
      "See the caveats in the documentation: https://pandas.pydata.org/pandas-docs/stable/user_guide/indexing.html#returning-a-view-versus-a-copy\n",
      "  b['multi_swipe']=(b['difference']<td) & (b['difference']>z)\n"
     ]
    }
   ],
   "source": [
    "# Checking for timedifference less than 180 seconds\n",
    "b['multi_swipe']=(b['difference']<td) & (b['difference']>z)"
   ]
  },
  {
   "cell_type": "code",
   "execution_count": 264,
   "metadata": {},
   "outputs": [],
   "source": [
    "#Sub-setting data with multi-swipe transactions only\n",
    "multi_swipe = b.loc[b['multi_swipe']==True]"
   ]
  },
  {
   "cell_type": "code",
   "execution_count": 261,
   "metadata": {},
   "outputs": [
    {
     "data": {
      "text/html": [
       "<div>\n",
       "<style scoped>\n",
       "    .dataframe tbody tr th:only-of-type {\n",
       "        vertical-align: middle;\n",
       "    }\n",
       "\n",
       "    .dataframe tbody tr th {\n",
       "        vertical-align: top;\n",
       "    }\n",
       "\n",
       "    .dataframe thead th {\n",
       "        text-align: right;\n",
       "    }\n",
       "</style>\n",
       "<table border=\"1\" class=\"dataframe\">\n",
       "  <thead>\n",
       "    <tr style=\"text-align: right;\">\n",
       "      <th></th>\n",
       "      <th>customerId</th>\n",
       "      <th>merchantName</th>\n",
       "      <th>transactionAmount</th>\n",
       "      <th>transactionType</th>\n",
       "      <th>transactionKey</th>\n",
       "      <th>Timestamp</th>\n",
       "      <th>Duplicate</th>\n",
       "      <th>difference</th>\n",
       "      <th>multi_swipe</th>\n",
       "    </tr>\n",
       "  </thead>\n",
       "  <tbody>\n",
       "    <tr>\n",
       "      <th>44</th>\n",
       "      <td>100088067</td>\n",
       "      <td>Fresh Flowers</td>\n",
       "      <td>411.35</td>\n",
       "      <td>PURCHASE</td>\n",
       "      <td>T541956</td>\n",
       "      <td>2016-10-16 18:01:02</td>\n",
       "      <td>True</td>\n",
       "      <td>0 days 00:00:02</td>\n",
       "      <td>True</td>\n",
       "    </tr>\n",
       "    <tr>\n",
       "      <th>251</th>\n",
       "      <td>100737756</td>\n",
       "      <td>34th BBQ #166379</td>\n",
       "      <td>43.25</td>\n",
       "      <td>PURCHASE</td>\n",
       "      <td>T151518</td>\n",
       "      <td>2016-07-10 14:32:06</td>\n",
       "      <td>True</td>\n",
       "      <td>0 days 00:00:59</td>\n",
       "      <td>True</td>\n",
       "    </tr>\n",
       "    <tr>\n",
       "      <th>318</th>\n",
       "      <td>100737756</td>\n",
       "      <td>Franks Deli</td>\n",
       "      <td>693.50</td>\n",
       "      <td>PURCHASE</td>\n",
       "      <td>T151427</td>\n",
       "      <td>2016-01-18 01:55:28</td>\n",
       "      <td>True</td>\n",
       "      <td>0 days 00:00:04</td>\n",
       "      <td>True</td>\n",
       "    </tr>\n",
       "    <tr>\n",
       "      <th>319</th>\n",
       "      <td>100737756</td>\n",
       "      <td>Franks Deli</td>\n",
       "      <td>693.50</td>\n",
       "      <td>PURCHASE</td>\n",
       "      <td>T151428</td>\n",
       "      <td>2016-01-18 01:58:26</td>\n",
       "      <td>True</td>\n",
       "      <td>0 days 00:02:58</td>\n",
       "      <td>True</td>\n",
       "    </tr>\n",
       "    <tr>\n",
       "      <th>374</th>\n",
       "      <td>100737756</td>\n",
       "      <td>South Steakhouse #73819</td>\n",
       "      <td>211.22</td>\n",
       "      <td>PURCHASE</td>\n",
       "      <td>T151513</td>\n",
       "      <td>2016-07-02 12:07:00</td>\n",
       "      <td>True</td>\n",
       "      <td>0 days 00:01:56</td>\n",
       "      <td>True</td>\n",
       "    </tr>\n",
       "  </tbody>\n",
       "</table>\n",
       "</div>"
      ],
      "text/plain": [
       "     customerId             merchantName  transactionAmount transactionType  \\\n",
       "44    100088067            Fresh Flowers             411.35        PURCHASE   \n",
       "251   100737756         34th BBQ #166379              43.25        PURCHASE   \n",
       "318   100737756              Franks Deli             693.50        PURCHASE   \n",
       "319   100737756              Franks Deli             693.50        PURCHASE   \n",
       "374   100737756  South Steakhouse #73819             211.22        PURCHASE   \n",
       "\n",
       "    transactionKey           Timestamp  Duplicate      difference  multi_swipe  \n",
       "44         T541956 2016-10-16 18:01:02       True 0 days 00:00:02         True  \n",
       "251        T151518 2016-07-10 14:32:06       True 0 days 00:00:59         True  \n",
       "318        T151427 2016-01-18 01:55:28       True 0 days 00:00:04         True  \n",
       "319        T151428 2016-01-18 01:58:26       True 0 days 00:02:58         True  \n",
       "374        T151513 2016-07-02 12:07:00       True 0 days 00:01:56         True  "
      ]
     },
     "execution_count": 261,
     "metadata": {},
     "output_type": "execute_result"
    }
   ],
   "source": [
    "multi_swipe.head()"
   ]
  },
  {
   "cell_type": "code",
   "execution_count": 262,
   "metadata": {},
   "outputs": [
    {
     "data": {
      "text/plain": [
       "PURCHASE    7474\n",
       "Name: transactionType, dtype: int64"
      ]
     },
     "execution_count": 262,
     "metadata": {},
     "output_type": "execute_result"
    }
   ],
   "source": [
    "multi_swipe.transactionType.value_counts()"
   ]
  },
  {
   "cell_type": "code",
   "execution_count": 263,
   "metadata": {},
   "outputs": [
    {
     "data": {
      "text/plain": [
       "1105654.5899999999"
      ]
     },
     "execution_count": 263,
     "metadata": {},
     "output_type": "execute_result"
    }
   ],
   "source": [
    "# Calculating total mutli-swipe transaction amount leaving the first transaction\n",
    "multi_swipe.sum()['transactionAmount']"
   ]
  },
  {
   "cell_type": "markdown",
   "metadata": {},
   "source": [
    "#### Total value of multi-swipe is 7474\n",
    "#### Total transaction amount of multi-swipe transactions is $1105654"
   ]
  },
  {
   "cell_type": "code",
   "execution_count": null,
   "metadata": {},
   "outputs": [],
   "source": []
  }
 ],
 "metadata": {
  "kernelspec": {
   "display_name": "Python 3",
   "language": "python",
   "name": "python3"
  },
  "language_info": {
   "codemirror_mode": {
    "name": "ipython",
    "version": 3
   },
   "file_extension": ".py",
   "mimetype": "text/x-python",
   "name": "python",
   "nbconvert_exporter": "python",
   "pygments_lexer": "ipython3",
   "version": "3.8.5"
  }
 },
 "nbformat": 4,
 "nbformat_minor": 4
}
